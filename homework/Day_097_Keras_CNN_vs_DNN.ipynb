{
 "cells": [
  {
   "cell_type": "code",
   "execution_count": 1,
   "metadata": {},
   "outputs": [
    {
     "name": "stderr",
     "output_type": "stream",
     "text": [
      "Using TensorFlow backend.\n"
     ]
    }
   ],
   "source": [
    "import keras\n",
    "from keras.datasets import cifar10\n",
    "from keras.preprocessing.image import ImageDataGenerator\n",
    "from keras.models import Sequential\n",
    "from keras.layers import Dense, Dropout, Activation, Flatten\n",
    "from keras.layers import Conv2D, MaxPooling2D\n",
    "from keras.optimizers import RMSprop, Adam\n",
    "import os"
   ]
  },
  {
   "cell_type": "code",
   "execution_count": 13,
   "metadata": {},
   "outputs": [
    {
     "name": "stdout",
     "output_type": "stream",
     "text": [
      "x_train shape: (50000, 32, 32, 3)\n",
      "50000 train samples\n",
      "10000 test samples\n"
     ]
    }
   ],
   "source": [
    "batch_size = 128 # batch 的大小，如果出現 OOM error，請降低這個值\n",
    "num_classes = 10 # 類別的數量，Cifar 10 共有 10 個類別\n",
    "epochs = 25 # 訓練的 epochs 數量\n",
    "\n",
    "# 讀取資料並檢視\n",
    "(x_train, y_train), (x_test, y_test) = cifar10.load_data()\n",
    "print('x_train shape:', x_train.shape)\n",
    "print(x_train.shape[0], 'train samples')\n",
    "print(x_test.shape[0], 'test samples')\n",
    "\n",
    "# 對 label 進行 one-hot encoding (y_trian 原本是純數字)\n",
    "y_train = keras.utils.to_categorical(y_train, num_classes)\n",
    "y_test = keras.utils.to_categorical(y_test, num_classes)\n",
    "keras.backend.clear_session()"
   ]
  },
  {
   "cell_type": "markdown",
   "metadata": {},
   "source": [
    "## 首先我們使用一般的 DNN (MLP) 來訓練\n",
    "由於 DNN 只能輸入一維的資料，我們要先將影像進行攤平，若 (50000, 32, 32, 3) 的影像，攤平後會變成 (50000, 32*32*3) = (50000, 3072)"
   ]
  },
  {
   "cell_type": "code",
   "execution_count": 14,
   "metadata": {},
   "outputs": [
    {
     "name": "stdout",
     "output_type": "stream",
     "text": [
      "50000 train samples\n",
      "10000 test samples\n"
     ]
    }
   ],
   "source": [
    "# 將資料攤平成一維資料\n",
    "x_train = x_train.reshape(50000, 3072) \n",
    "x_test = x_test.reshape(10000, 3072)\n",
    "\n",
    "# 將資料變為 float32 並標準化\n",
    "x_train = x_train.astype('float32')\n",
    "x_test = x_test.astype('float32')\n",
    "x_train /= 255\n",
    "x_test /= 255\n",
    "print(x_train.shape[0], 'train samples')\n",
    "print(x_test.shape[0], 'test samples')"
   ]
  },
  {
   "cell_type": "code",
   "execution_count": 15,
   "metadata": {},
   "outputs": [
    {
     "name": "stdout",
     "output_type": "stream",
     "text": [
      "Model: \"sequential_1\"\n",
      "_________________________________________________________________\n",
      "Layer (type)                 Output Shape              Param #   \n",
      "=================================================================\n",
      "dense_1 (Dense)              (None, 512)               1573376   \n",
      "_________________________________________________________________\n",
      "dropout_1 (Dropout)          (None, 512)               0         \n",
      "_________________________________________________________________\n",
      "dense_2 (Dense)              (None, 512)               262656    \n",
      "_________________________________________________________________\n",
      "dropout_2 (Dropout)          (None, 512)               0         \n",
      "_________________________________________________________________\n",
      "dense_3 (Dense)              (None, 10)                5130      \n",
      "=================================================================\n",
      "Total params: 1,841,162\n",
      "Trainable params: 1,841,162\n",
      "Non-trainable params: 0\n",
      "_________________________________________________________________\n",
      "Train on 50000 samples, validate on 10000 samples\n",
      "Epoch 1/25\n",
      "50000/50000 [==============================] - 4s 75us/step - loss: 2.1618 - accuracy: 0.2514 - val_loss: 1.8289 - val_accuracy: 0.3312\n",
      "Epoch 2/25\n",
      "50000/50000 [==============================] - 4s 70us/step - loss: 1.8529 - accuracy: 0.3298 - val_loss: 1.7569 - val_accuracy: 0.3666\n",
      "Epoch 3/25\n",
      "50000/50000 [==============================] - 4s 71us/step - loss: 1.7791 - accuracy: 0.3597 - val_loss: 1.6861 - val_accuracy: 0.3915\n",
      "Epoch 4/25\n",
      "50000/50000 [==============================] - 4s 71us/step - loss: 1.7253 - accuracy: 0.3806 - val_loss: 1.7062 - val_accuracy: 0.3895\n",
      "Epoch 5/25\n",
      "50000/50000 [==============================] - 4s 72us/step - loss: 1.6930 - accuracy: 0.3909 - val_loss: 1.6549 - val_accuracy: 0.4093\n",
      "Epoch 6/25\n",
      "50000/50000 [==============================] - 4s 71us/step - loss: 1.6707 - accuracy: 0.4014 - val_loss: 1.6115 - val_accuracy: 0.4351\n",
      "Epoch 7/25\n",
      "50000/50000 [==============================] - 4s 75us/step - loss: 1.6481 - accuracy: 0.4086 - val_loss: 1.6425 - val_accuracy: 0.4189\n",
      "Epoch 8/25\n",
      "50000/50000 [==============================] - 4s 74us/step - loss: 1.6307 - accuracy: 0.4160 - val_loss: 1.6133 - val_accuracy: 0.4182\n",
      "Epoch 9/25\n",
      "50000/50000 [==============================] - 4s 71us/step - loss: 1.6147 - accuracy: 0.4235 - val_loss: 1.5753 - val_accuracy: 0.4452\n",
      "Epoch 10/25\n",
      "50000/50000 [==============================] - 4s 72us/step - loss: 1.5986 - accuracy: 0.4275 - val_loss: 1.5513 - val_accuracy: 0.4593\n",
      "Epoch 11/25\n",
      "50000/50000 [==============================] - 4s 79us/step - loss: 1.5840 - accuracy: 0.4350 - val_loss: 1.5248 - val_accuracy: 0.4588\n",
      "Epoch 12/25\n",
      "50000/50000 [==============================] - 4s 89us/step - loss: 1.5740 - accuracy: 0.4339 - val_loss: 1.5463 - val_accuracy: 0.4498\n",
      "Epoch 13/25\n",
      "50000/50000 [==============================] - 5s 106us/step - loss: 1.5617 - accuracy: 0.4432 - val_loss: 1.5384 - val_accuracy: 0.4563\n",
      "Epoch 14/25\n",
      "50000/50000 [==============================] - 5s 100us/step - loss: 1.5536 - accuracy: 0.4450 - val_loss: 1.5260 - val_accuracy: 0.4611\n",
      "Epoch 15/25\n",
      "50000/50000 [==============================] - 6s 115us/step - loss: 1.5503 - accuracy: 0.4466 - val_loss: 1.5350 - val_accuracy: 0.4618\n",
      "Epoch 16/25\n",
      "50000/50000 [==============================] - 4s 74us/step - loss: 1.5402 - accuracy: 0.4513 - val_loss: 1.5244 - val_accuracy: 0.4676\n",
      "Epoch 17/25\n",
      "50000/50000 [==============================] - 4s 73us/step - loss: 1.5276 - accuracy: 0.4559 - val_loss: 1.5158 - val_accuracy: 0.4702\n",
      "Epoch 18/25\n",
      "50000/50000 [==============================] - 4s 75us/step - loss: 1.5236 - accuracy: 0.4568 - val_loss: 1.4883 - val_accuracy: 0.4791\n",
      "Epoch 19/25\n",
      "50000/50000 [==============================] - 4s 82us/step - loss: 1.5143 - accuracy: 0.4606 - val_loss: 1.5605 - val_accuracy: 0.4385\n",
      "Epoch 20/25\n",
      "50000/50000 [==============================] - 4s 78us/step - loss: 1.5184 - accuracy: 0.4603 - val_loss: 1.4961 - val_accuracy: 0.4795\n",
      "Epoch 21/25\n",
      "50000/50000 [==============================] - 4s 77us/step - loss: 1.5092 - accuracy: 0.4637 - val_loss: 1.5760 - val_accuracy: 0.4357\n",
      "Epoch 22/25\n",
      "50000/50000 [==============================] - 4s 77us/step - loss: 1.5002 - accuracy: 0.4664 - val_loss: 1.4784 - val_accuracy: 0.4774\n",
      "Epoch 23/25\n",
      "50000/50000 [==============================] - 4s 77us/step - loss: 1.5007 - accuracy: 0.4650 - val_loss: 1.4526 - val_accuracy: 0.4824\n",
      "Epoch 24/25\n",
      "50000/50000 [==============================] - 4s 76us/step - loss: 1.4904 - accuracy: 0.4708 - val_loss: 1.4935 - val_accuracy: 0.4661\n",
      "Epoch 25/25\n",
      "50000/50000 [==============================] - 4s 76us/step - loss: 1.4898 - accuracy: 0.4698 - val_loss: 1.5151 - val_accuracy: 0.4684\n",
      "Test loss: 1.5151383966445924\n",
      "Test accuracy: 0.4684000015258789\n"
     ]
    }
   ],
   "source": [
    "model = Sequential()\n",
    "model.add(Dense(512, activation='relu', input_shape=(3072,)))\n",
    "model.add(Dropout(0.2))\n",
    "model.add(Dense(512, activation='relu'))\n",
    "model.add(Dropout(0.2))\n",
    "model.add(Dense(num_classes, activation='softmax'))\n",
    "\n",
    "model.summary()\n",
    "\n",
    "model.compile(loss='categorical_crossentropy',\n",
    "              optimizer=RMSprop(),\n",
    "              metrics=['accuracy'])\n",
    "\n",
    "history = model.fit(x_train, y_train,\n",
    "                    batch_size=batch_size,\n",
    "                    epochs=epochs,\n",
    "                    verbose=1,\n",
    "                    validation_data=(x_test, y_test))\n",
    "score = model.evaluate(x_test, y_test, verbose=0)\n",
    "print('Test loss:', score[0])\n",
    "print('Test accuracy:', score[1])"
   ]
  },
  {
   "cell_type": "markdown",
   "metadata": {},
   "source": [
    "## 接下來我們使用 CNN 來訓練神經網路\n",
    "CNN 的原理非常適合處理影像類的資料，就讓我們來看看，同樣的訓練條件，CNN 是否顯著優於 DNN 呢?"
   ]
  },
  {
   "cell_type": "code",
   "execution_count": 16,
   "metadata": {},
   "outputs": [
    {
     "name": "stdout",
     "output_type": "stream",
     "text": [
      "x_train shape: (50000, 32, 32, 3)\n",
      "50000 train samples\n",
      "10000 test samples\n"
     ]
    }
   ],
   "source": [
    "(x_train, y_train), (x_test, y_test) = cifar10.load_data()\n",
    "print('x_train shape:', x_train.shape)\n",
    "print(x_train.shape[0], 'train samples')\n",
    "print(x_test.shape[0], 'test samples')\n",
    "x_train = x_train.astype('float32')\n",
    "x_test = x_test.astype('float32')\n",
    "x_train /= 255\n",
    "x_test /= 255\n",
    "\n",
    "# Convert class vectors to binary class matrices.\n",
    "y_train = keras.utils.to_categorical(y_train, num_classes)\n",
    "y_test = keras.utils.to_categorical(y_test, num_classes)"
   ]
  },
  {
   "cell_type": "code",
   "execution_count": 17,
   "metadata": {},
   "outputs": [
    {
     "name": "stdout",
     "output_type": "stream",
     "text": [
      "Model: \"sequential_2\"\n",
      "_________________________________________________________________\n",
      "Layer (type)                 Output Shape              Param #   \n",
      "=================================================================\n",
      "conv2d_1 (Conv2D)            (None, 32, 32, 32)        896       \n",
      "_________________________________________________________________\n",
      "activation_1 (Activation)    (None, 32, 32, 32)        0         \n",
      "_________________________________________________________________\n",
      "conv2d_2 (Conv2D)            (None, 30, 30, 32)        9248      \n",
      "_________________________________________________________________\n",
      "activation_2 (Activation)    (None, 30, 30, 32)        0         \n",
      "_________________________________________________________________\n",
      "max_pooling2d_1 (MaxPooling2 (None, 15, 15, 32)        0         \n",
      "_________________________________________________________________\n",
      "dropout_3 (Dropout)          (None, 15, 15, 32)        0         \n",
      "_________________________________________________________________\n",
      "conv2d_3 (Conv2D)            (None, 15, 15, 64)        18496     \n",
      "_________________________________________________________________\n",
      "activation_3 (Activation)    (None, 15, 15, 64)        0         \n",
      "_________________________________________________________________\n",
      "conv2d_4 (Conv2D)            (None, 13, 13, 64)        36928     \n",
      "_________________________________________________________________\n",
      "activation_4 (Activation)    (None, 13, 13, 64)        0         \n",
      "_________________________________________________________________\n",
      "max_pooling2d_2 (MaxPooling2 (None, 6, 6, 64)          0         \n",
      "_________________________________________________________________\n",
      "dropout_4 (Dropout)          (None, 6, 6, 64)          0         \n",
      "_________________________________________________________________\n",
      "flatten_1 (Flatten)          (None, 2304)              0         \n",
      "_________________________________________________________________\n",
      "dense_4 (Dense)              (None, 512)               1180160   \n",
      "_________________________________________________________________\n",
      "activation_5 (Activation)    (None, 512)               0         \n",
      "_________________________________________________________________\n",
      "dropout_5 (Dropout)          (None, 512)               0         \n",
      "_________________________________________________________________\n",
      "dense_5 (Dense)              (None, 10)                5130      \n",
      "_________________________________________________________________\n",
      "activation_6 (Activation)    (None, 10)                0         \n",
      "=================================================================\n",
      "Total params: 1,250,858\n",
      "Trainable params: 1,250,858\n",
      "Non-trainable params: 0\n",
      "_________________________________________________________________\n",
      "Train on 50000 samples, validate on 10000 samples\n",
      "Epoch 1/25\n",
      "50000/50000 [==============================] - 16s 319us/step - loss: 1.7374 - accuracy: 0.3727 - val_loss: 1.4271 - val_accuracy: 0.4822\n",
      "Epoch 2/25\n",
      "50000/50000 [==============================] - 16s 317us/step - loss: 1.2872 - accuracy: 0.5474 - val_loss: 1.0781 - val_accuracy: 0.6260\n",
      "Epoch 3/25\n",
      "50000/50000 [==============================] - 18s 366us/step - loss: 1.0851 - accuracy: 0.6196 - val_loss: 1.0095 - val_accuracy: 0.6532\n",
      "Epoch 4/25\n",
      "50000/50000 [==============================] - 17s 340us/step - loss: 0.9521 - accuracy: 0.6693 - val_loss: 0.8527 - val_accuracy: 0.6987\n",
      "Epoch 5/25\n",
      "50000/50000 [==============================] - 17s 336us/step - loss: 0.8616 - accuracy: 0.7029 - val_loss: 0.9377 - val_accuracy: 0.6818\n",
      "Epoch 6/25\n",
      "50000/50000 [==============================] - 18s 364us/step - loss: 0.7908 - accuracy: 0.7263 - val_loss: 0.7318 - val_accuracy: 0.7475\n",
      "Epoch 7/25\n",
      "50000/50000 [==============================] - 17s 343us/step - loss: 0.7426 - accuracy: 0.7420 - val_loss: 0.7126 - val_accuracy: 0.7548\n",
      "Epoch 8/25\n",
      "50000/50000 [==============================] - 17s 348us/step - loss: 0.6978 - accuracy: 0.7578 - val_loss: 0.8173 - val_accuracy: 0.7252\n",
      "Epoch 9/25\n",
      "50000/50000 [==============================] - 17s 349us/step - loss: 0.6666 - accuracy: 0.7680 - val_loss: 0.7106 - val_accuracy: 0.7620\n",
      "Epoch 10/25\n",
      "50000/50000 [==============================] - 18s 362us/step - loss: 0.6470 - accuracy: 0.7776 - val_loss: 0.6873 - val_accuracy: 0.7658\n",
      "Epoch 11/25\n",
      "50000/50000 [==============================] - 17s 350us/step - loss: 0.6191 - accuracy: 0.7863 - val_loss: 0.6957 - val_accuracy: 0.7814\n",
      "Epoch 12/25\n",
      "50000/50000 [==============================] - 18s 350us/step - loss: 0.6096 - accuracy: 0.7920 - val_loss: 0.6888 - val_accuracy: 0.7720\n",
      "Epoch 13/25\n",
      "50000/50000 [==============================] - 17s 350us/step - loss: 0.5930 - accuracy: 0.7988 - val_loss: 0.7191 - val_accuracy: 0.7791\n",
      "Epoch 14/25\n",
      "50000/50000 [==============================] - 18s 354us/step - loss: 0.5926 - accuracy: 0.7990 - val_loss: 0.7649 - val_accuracy: 0.7578\n",
      "Epoch 15/25\n",
      "50000/50000 [==============================] - 18s 360us/step - loss: 0.5920 - accuracy: 0.8002 - val_loss: 0.7429 - val_accuracy: 0.7764\n",
      "Epoch 16/25\n",
      "50000/50000 [==============================] - 18s 353us/step - loss: 0.5907 - accuracy: 0.8003 - val_loss: 0.7651 - val_accuracy: 0.7870\n",
      "Epoch 17/25\n",
      "50000/50000 [==============================] - 18s 353us/step - loss: 0.5894 - accuracy: 0.8033 - val_loss: 0.7736 - val_accuracy: 0.7650\n",
      "Epoch 18/25\n",
      "50000/50000 [==============================] - 18s 354us/step - loss: 0.5904 - accuracy: 0.8028 - val_loss: 0.8046 - val_accuracy: 0.7720\n",
      "Epoch 19/25\n",
      "50000/50000 [==============================] - 18s 356us/step - loss: 0.5941 - accuracy: 0.8032 - val_loss: 0.7602 - val_accuracy: 0.7874\n",
      "Epoch 20/25\n",
      "50000/50000 [==============================] - 19s 372us/step - loss: 0.5905 - accuracy: 0.8051 - val_loss: 0.6340 - val_accuracy: 0.7887\n",
      "Epoch 21/25\n",
      "50000/50000 [==============================] - 18s 359us/step - loss: 0.5952 - accuracy: 0.8037 - val_loss: 0.6709 - val_accuracy: 0.7890\n",
      "Epoch 22/25\n",
      "50000/50000 [==============================] - 18s 354us/step - loss: 0.5845 - accuracy: 0.8080 - val_loss: 0.7263 - val_accuracy: 0.7827\n",
      "Epoch 23/25\n",
      "50000/50000 [==============================] - 18s 356us/step - loss: 0.5935 - accuracy: 0.8056 - val_loss: 0.7002 - val_accuracy: 0.7844\n",
      "Epoch 24/25\n",
      "50000/50000 [==============================] - 18s 360us/step - loss: 0.5887 - accuracy: 0.8057 - val_loss: 0.6845 - val_accuracy: 0.8040\n",
      "Epoch 25/25\n",
      "50000/50000 [==============================] - 18s 355us/step - loss: 0.5974 - accuracy: 0.8034 - val_loss: 0.7085 - val_accuracy: 0.7825\n",
      "Test loss: 0.7084894939422608\n",
      "Test accuracy: 0.7825000286102295\n"
     ]
    }
   ],
   "source": [
    "model = Sequential()\n",
    "model.add(Conv2D(32, (3, 3), padding='same',\n",
    "                 input_shape=x_train.shape[1:]))\n",
    "model.add(Activation('relu'))\n",
    "model.add(Conv2D(32, (3, 3)))\n",
    "model.add(Activation('relu'))\n",
    "model.add(MaxPooling2D(pool_size=(2, 2)))\n",
    "model.add(Dropout(0.25))\n",
    "\n",
    "model.add(Conv2D(64, (3, 3), padding='same'))\n",
    "model.add(Activation('relu'))\n",
    "model.add(Conv2D(64, (3, 3)))\n",
    "model.add(Activation('relu'))\n",
    "model.add(MaxPooling2D(pool_size=(2, 2)))\n",
    "model.add(Dropout(0.25))\n",
    "\n",
    "model.add(Flatten())\n",
    "model.add(Dense(512))\n",
    "model.add(Activation('relu'))\n",
    "model.add(Dropout(0.5))\n",
    "model.add(Dense(num_classes))\n",
    "model.add(Activation('softmax'))\n",
    "model.summary()\n",
    "\n",
    "model.compile(loss='categorical_crossentropy',\n",
    "              optimizer=RMSprop(),\n",
    "              metrics=['accuracy'])\n",
    "\n",
    "history = model.fit(x_train, y_train,\n",
    "                    batch_size=batch_size,\n",
    "                    epochs=epochs,\n",
    "                    verbose=1,\n",
    "                    validation_data=(x_test, y_test))\n",
    "score = model.evaluate(x_test, y_test, verbose=0)\n",
    "print('Test loss:', score[0])\n",
    "print('Test accuracy:', score[1])"
   ]
  },
  {
   "cell_type": "markdown",
   "metadata": {},
   "source": [
    "## 同樣運算 10 個 epochs，但 CNN 在 test data 的準確率顯著優於 DNN!"
   ]
  },
  {
   "cell_type": "markdown",
   "metadata": {},
   "source": [
    "## 作業\n",
    "1. 請試著調整各個超參數，並說明那些超參數對於結果有明顯的影響?\n",
    "2. CNN 與 DNN 哪個模型的參數數量比較多? 造成參數的數量不同的原因在哪?"
   ]
  },
  {
   "cell_type": "code",
   "execution_count": null,
   "metadata": {},
   "outputs": [],
   "source": [
    "# 1. 請試著調整各個超參數，並說明那些超參數對於結果有明顯的影響?\n",
    "# epoch=10, batchsize=128 => DNN: 0.45, CNN: 0.76\n",
    "# epoch=10, batchsize=32 => DNN: 0.39, CNN: 0.50\n",
    "# epoch=25, batchsize=128 => DNN: 0.468, CNN: 0.78\n",
    "# 可見Batchsize對於準確率影響較為嚴重\n",
    "\n",
    "# 2. CNN 與 DNN 哪個模型的參數數量比較多? 造成參數的數量不同的原因在哪?\n"
   ]
  }
 ],
 "metadata": {
  "kernelspec": {
   "display_name": "Python 3",
   "language": "python",
   "name": "python3"
  },
  "language_info": {
   "codemirror_mode": {
    "name": "ipython",
    "version": 3
   },
   "file_extension": ".py",
   "mimetype": "text/x-python",
   "name": "python",
   "nbconvert_exporter": "python",
   "pygments_lexer": "ipython3",
   "version": "3.6.9"
  }
 },
 "nbformat": 4,
 "nbformat_minor": 2
}
