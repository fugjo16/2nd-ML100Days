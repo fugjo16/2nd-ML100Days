{
 "cells": [
  {
   "cell_type": "markdown",
   "metadata": {},
   "source": [
    "## Work\n",
    "1. 試改變 monitor \"Validation Accuracy\" 並比較結果\n",
    "2. 調整 earlystop 的等待次數至 10, 25 並比較結果"
   ]
  },
  {
   "cell_type": "code",
   "execution_count": 1,
   "metadata": {},
   "outputs": [
    {
     "name": "stderr",
     "output_type": "stream",
     "text": [
      "Using TensorFlow backend.\n"
     ]
    }
   ],
   "source": [
    "import os\n",
    "import keras\n",
    "import matplotlib.pyplot as plt\n",
    "%matplotlib inline\n",
    "\n",
    "\n",
    "# Disable GPU\n",
    "os.environ[\"CUDA_VISIBLE_DEVICES\"] = \"\""
   ]
  },
  {
   "cell_type": "code",
   "execution_count": 2,
   "metadata": {
    "collapsed": true
   },
   "outputs": [],
   "source": [
    "train, test = keras.datasets.cifar10.load_data()"
   ]
  },
  {
   "cell_type": "code",
   "execution_count": 3,
   "metadata": {
    "collapsed": true
   },
   "outputs": [],
   "source": [
    "## 資料前處理\n",
    "def preproc_x(x, flatten=True):\n",
    "    x = x / 255.\n",
    "    if flatten:\n",
    "        x = x.reshape((len(x), -1))\n",
    "    return x\n",
    "\n",
    "def preproc_y(y, num_classes=10):\n",
    "    if y.shape[-1] == 1:\n",
    "        y = keras.utils.to_categorical(y, num_classes)\n",
    "    return y    "
   ]
  },
  {
   "cell_type": "code",
   "execution_count": 4,
   "metadata": {
    "collapsed": true
   },
   "outputs": [],
   "source": [
    "x_train, y_train = train\n",
    "x_test, y_test = test\n",
    "\n",
    "# Preproc the inputs\n",
    "x_train = preproc_x(x_train)\n",
    "x_test = preproc_x(x_test)\n",
    "\n",
    "# Preprc the outputs\n",
    "y_train = preproc_y(y_train)\n",
    "y_test = preproc_y(y_test)"
   ]
  },
  {
   "cell_type": "code",
   "execution_count": 5,
   "metadata": {
    "collapsed": true
   },
   "outputs": [],
   "source": [
    "\n",
    "def build_mlp(input_shape, num_class=10):\n",
    "    \"\"\"Code Here\n",
    "    建立你的神經網路\n",
    "    \"\"\"\n",
    "    keras.backend.clear_session()\n",
    "    input_layer = keras.models.Input(input_shape)\n",
    "    x = keras.layers.Dense(units=512, activation='relu', name='hidden_layer1')(input_layer)\n",
    "    x = keras.layers.Dense(units=256, activation='relu', name='hidden_layer2')(x)\n",
    "    x = keras.layers.Dense(units=128, activation='relu', name='hidden_layer3')(x)\n",
    "    out = keras.layers.Dense(units=num_class, activation='softmax', name='output')(x)\n",
    "    model = keras.models.Model(input=[input_layer], output=[out])\n",
    "    return model"
   ]
  },
  {
   "cell_type": "code",
   "execution_count": 6,
   "metadata": {
    "collapsed": true
   },
   "outputs": [],
   "source": [
    "\"\"\"Code Here\n",
    "設定超參數\n",
    "\"\"\"\n",
    "EPOCHS = 50\n",
    "BATCH_SIZE = 32\n",
    "LEARNING_RATE = 1e-3\n",
    "MOMENTUM = 0.95\n",
    "EARLYSTOP = [5, 10, 25]"
   ]
  },
  {
   "cell_type": "code",
   "execution_count": 9,
   "metadata": {},
   "outputs": [
    {
     "name": "stderr",
     "output_type": "stream",
     "text": [
      "C:\\ProgramData\\Anaconda3\\lib\\site-packages\\ipykernel_launcher.py:12: UserWarning: Update your `Model` call to the Keras 2 API: `Model(inputs=[<tf.Tenso..., outputs=[<tf.Tenso...)`\n",
      "  if sys.path[0] == '':\n"
     ]
    },
    {
     "name": "stdout",
     "output_type": "stream",
     "text": [
      "Train on 50000 samples, validate on 10000 samples\n",
      "Epoch 1/50\n",
      "50000/50000 [==============================] - 14s 270us/step - loss: 1.8747 - accuracy: 0.3204 - val_loss: 1.7260 - val_accuracy: 0.3727\n",
      "Epoch 2/50\n",
      "50000/50000 [==============================] - 13s 265us/step - loss: 1.6906 - accuracy: 0.3915 - val_loss: 1.7081 - val_accuracy: 0.3895\n",
      "Epoch 3/50\n",
      "50000/50000 [==============================] - 13s 265us/step - loss: 1.6052 - accuracy: 0.4236 - val_loss: 1.5695 - val_accuracy: 0.4426\n",
      "Epoch 4/50\n",
      "50000/50000 [==============================] - 13s 259us/step - loss: 1.5486 - accuracy: 0.4438 - val_loss: 1.5843 - val_accuracy: 0.4439\n",
      "Epoch 5/50\n",
      "50000/50000 [==============================] - 13s 258us/step - loss: 1.5071 - accuracy: 0.4583 - val_loss: 1.5274 - val_accuracy: 0.4586\n",
      "Epoch 6/50\n",
      "50000/50000 [==============================] - 14s 276us/step - loss: 1.4693 - accuracy: 0.4733 - val_loss: 1.5068 - val_accuracy: 0.4656\n",
      "Epoch 7/50\n",
      "50000/50000 [==============================] - 15s 290us/step - loss: 1.4451 - accuracy: 0.4795 - val_loss: 1.4927 - val_accuracy: 0.4652\n",
      "Epoch 8/50\n",
      "50000/50000 [==============================] - 14s 271us/step - loss: 1.4151 - accuracy: 0.4917 - val_loss: 1.4887 - val_accuracy: 0.4713\n",
      "Epoch 9/50\n",
      "50000/50000 [==============================] - 15s 293us/step - loss: 1.3962 - accuracy: 0.4973 - val_loss: 1.4628 - val_accuracy: 0.4727\n",
      "Epoch 10/50\n",
      "50000/50000 [==============================] - 14s 286us/step - loss: 1.3725 - accuracy: 0.5054 - val_loss: 1.4861 - val_accuracy: 0.4744\n",
      "Epoch 11/50\n",
      "50000/50000 [==============================] - 14s 271us/step - loss: 1.3543 - accuracy: 0.5133 - val_loss: 1.4362 - val_accuracy: 0.4930\n",
      "Epoch 12/50\n",
      "50000/50000 [==============================] - 14s 283us/step - loss: 1.3331 - accuracy: 0.5220 - val_loss: 1.4915 - val_accuracy: 0.4733\n",
      "Epoch 13/50\n",
      "50000/50000 [==============================] - 15s 297us/step - loss: 1.3148 - accuracy: 0.5284 - val_loss: 1.4500 - val_accuracy: 0.4871\n",
      "Epoch 14/50\n",
      "50000/50000 [==============================] - 14s 275us/step - loss: 1.3015 - accuracy: 0.5324 - val_loss: 1.4670 - val_accuracy: 0.4877\n",
      "Epoch 15/50\n",
      "50000/50000 [==============================] - 14s 279us/step - loss: 1.2832 - accuracy: 0.5367 - val_loss: 1.4590 - val_accuracy: 0.4880\n",
      "Epoch 16/50\n",
      "50000/50000 [==============================] - 15s 293us/step - loss: 1.2687 - accuracy: 0.5431 - val_loss: 1.4778 - val_accuracy: 0.4837\n",
      "Epoch 00016: early stopping\n"
     ]
    },
    {
     "name": "stderr",
     "output_type": "stream",
     "text": [
      "C:\\ProgramData\\Anaconda3\\lib\\site-packages\\ipykernel_launcher.py:12: UserWarning: Update your `Model` call to the Keras 2 API: `Model(inputs=[<tf.Tenso..., outputs=[<tf.Tenso...)`\n",
      "  if sys.path[0] == '':\n"
     ]
    },
    {
     "name": "stdout",
     "output_type": "stream",
     "text": [
      "Train on 50000 samples, validate on 10000 samples\n",
      "Epoch 1/50\n",
      "50000/50000 [==============================] - 14s 280us/step - loss: 1.8640 - accuracy: 0.3209 - val_loss: 1.6958 - val_accuracy: 0.3861\n",
      "Epoch 2/50\n",
      "50000/50000 [==============================] - 14s 287us/step - loss: 1.6883 - accuracy: 0.3938 - val_loss: 1.6082 - val_accuracy: 0.4230\n",
      "Epoch 3/50\n",
      "50000/50000 [==============================] - 14s 276us/step - loss: 1.6009 - accuracy: 0.4271 - val_loss: 1.5851 - val_accuracy: 0.4348\n",
      "Epoch 4/50\n",
      "50000/50000 [==============================] - 14s 272us/step - loss: 1.5376 - accuracy: 0.4494 - val_loss: 1.4957 - val_accuracy: 0.4678\n",
      "Epoch 5/50\n",
      "50000/50000 [==============================] - 14s 273us/step - loss: 1.4975 - accuracy: 0.4631 - val_loss: 1.5246 - val_accuracy: 0.4594\n",
      "Epoch 6/50\n",
      "50000/50000 [==============================] - 14s 271us/step - loss: 1.4633 - accuracy: 0.4762 - val_loss: 1.4859 - val_accuracy: 0.4716\n",
      "Epoch 7/50\n",
      "50000/50000 [==============================] - 14s 283us/step - loss: 1.4396 - accuracy: 0.4859 - val_loss: 1.4841 - val_accuracy: 0.4647\n",
      "Epoch 8/50\n",
      "50000/50000 [==============================] - 14s 283us/step - loss: 1.4181 - accuracy: 0.4927 - val_loss: 1.4583 - val_accuracy: 0.4883\n",
      "Epoch 9/50\n",
      "50000/50000 [==============================] - 14s 271us/step - loss: 1.3911 - accuracy: 0.5020 - val_loss: 1.4530 - val_accuracy: 0.4871\n",
      "Epoch 10/50\n",
      "50000/50000 [==============================] - 14s 271us/step - loss: 1.3709 - accuracy: 0.5089 - val_loss: 1.4590 - val_accuracy: 0.4887\n",
      "Epoch 11/50\n",
      "50000/50000 [==============================] - 14s 285us/step - loss: 1.3504 - accuracy: 0.5156 - val_loss: 1.4524 - val_accuracy: 0.4872\n",
      "Epoch 12/50\n",
      "50000/50000 [==============================] - 14s 275us/step - loss: 1.3327 - accuracy: 0.5197 - val_loss: 1.4305 - val_accuracy: 0.4975\n",
      "Epoch 13/50\n",
      "50000/50000 [==============================] - 13s 267us/step - loss: 1.3150 - accuracy: 0.5292 - val_loss: 1.4359 - val_accuracy: 0.4967\n",
      "Epoch 14/50\n",
      "50000/50000 [==============================] - 14s 272us/step - loss: 1.2975 - accuracy: 0.5323 - val_loss: 1.5073 - val_accuracy: 0.4783\n",
      "Epoch 15/50\n",
      "50000/50000 [==============================] - 13s 269us/step - loss: 1.2822 - accuracy: 0.5395 - val_loss: 1.4513 - val_accuracy: 0.4935\n",
      "Epoch 16/50\n",
      "50000/50000 [==============================] - 13s 268us/step - loss: 1.2662 - accuracy: 0.5437 - val_loss: 1.4464 - val_accuracy: 0.4962\n",
      "Epoch 17/50\n",
      "50000/50000 [==============================] - 13s 267us/step - loss: 1.2533 - accuracy: 0.5503 - val_loss: 1.4861 - val_accuracy: 0.4850\n",
      "Epoch 18/50\n",
      "50000/50000 [==============================] - 13s 260us/step - loss: 1.2384 - accuracy: 0.5544 - val_loss: 1.5156 - val_accuracy: 0.4820\n",
      "Epoch 19/50\n",
      "50000/50000 [==============================] - 13s 269us/step - loss: 1.2255 - accuracy: 0.5591 - val_loss: 1.4676 - val_accuracy: 0.4863\n",
      "Epoch 20/50\n",
      "50000/50000 [==============================] - 13s 258us/step - loss: 1.2133 - accuracy: 0.5630 - val_loss: 1.4927 - val_accuracy: 0.4890\n",
      "Epoch 21/50\n",
      "50000/50000 [==============================] - 14s 271us/step - loss: 1.1949 - accuracy: 0.5709 - val_loss: 1.4806 - val_accuracy: 0.4933\n",
      "Epoch 22/50\n",
      "50000/50000 [==============================] - 14s 278us/step - loss: 1.1871 - accuracy: 0.5721 - val_loss: 1.5220 - val_accuracy: 0.4879\n",
      "Epoch 00022: early stopping\n"
     ]
    },
    {
     "name": "stderr",
     "output_type": "stream",
     "text": [
      "C:\\ProgramData\\Anaconda3\\lib\\site-packages\\ipykernel_launcher.py:12: UserWarning: Update your `Model` call to the Keras 2 API: `Model(inputs=[<tf.Tenso..., outputs=[<tf.Tenso...)`\n",
      "  if sys.path[0] == '':\n"
     ]
    },
    {
     "name": "stdout",
     "output_type": "stream",
     "text": [
      "Train on 50000 samples, validate on 10000 samples\n",
      "Epoch 1/50\n",
      "50000/50000 [==============================] - 13s 270us/step - loss: 1.8675 - accuracy: 0.3224 - val_loss: 1.7388 - val_accuracy: 0.3729\n",
      "Epoch 2/50\n",
      "50000/50000 [==============================] - 13s 269us/step - loss: 1.6715 - accuracy: 0.3961 - val_loss: 1.6099 - val_accuracy: 0.4231\n",
      "Epoch 3/50\n",
      "50000/50000 [==============================] - 14s 280us/step - loss: 1.5832 - accuracy: 0.4323 - val_loss: 1.5696 - val_accuracy: 0.4405\n",
      "Epoch 4/50\n",
      "50000/50000 [==============================] - 14s 282us/step - loss: 1.5310 - accuracy: 0.4518 - val_loss: 1.5064 - val_accuracy: 0.4614\n",
      "Epoch 5/50\n",
      "50000/50000 [==============================] - 14s 284us/step - loss: 1.4876 - accuracy: 0.4660 - val_loss: 1.4869 - val_accuracy: 0.4695\n",
      "Epoch 6/50\n",
      "50000/50000 [==============================] - 14s 286us/step - loss: 1.4606 - accuracy: 0.4759 - val_loss: 1.4985 - val_accuracy: 0.4698\n",
      "Epoch 7/50\n",
      "50000/50000 [==============================] - 14s 285us/step - loss: 1.4329 - accuracy: 0.4878 - val_loss: 1.4949 - val_accuracy: 0.4708\n",
      "Epoch 8/50\n",
      "50000/50000 [==============================] - 14s 280us/step - loss: 1.4116 - accuracy: 0.4937 - val_loss: 1.4500 - val_accuracy: 0.4887\n",
      "Epoch 9/50\n",
      "50000/50000 [==============================] - 14s 280us/step - loss: 1.3868 - accuracy: 0.5024 - val_loss: 1.4754 - val_accuracy: 0.4788\n",
      "Epoch 10/50\n",
      "50000/50000 [==============================] - 16s 323us/step - loss: 1.3640 - accuracy: 0.5090 - val_loss: 1.4202 - val_accuracy: 0.4983\n",
      "Epoch 11/50\n",
      "50000/50000 [==============================] - 15s 293us/step - loss: 1.3475 - accuracy: 0.5144 - val_loss: 1.4453 - val_accuracy: 0.4939\n",
      "Epoch 12/50\n",
      "50000/50000 [==============================] - 15s 309us/step - loss: 1.3296 - accuracy: 0.5215 - val_loss: 1.4294 - val_accuracy: 0.4917\n",
      "Epoch 13/50\n",
      "50000/50000 [==============================] - 15s 298us/step - loss: 1.3102 - accuracy: 0.5290 - val_loss: 1.4869 - val_accuracy: 0.4902\n",
      "Epoch 14/50\n",
      "50000/50000 [==============================] - 15s 308us/step - loss: 1.3000 - accuracy: 0.5308 - val_loss: 1.4749 - val_accuracy: 0.4887\n",
      "Epoch 15/50\n",
      "50000/50000 [==============================] - 15s 302us/step - loss: 1.2840 - accuracy: 0.5384 - val_loss: 1.4788 - val_accuracy: 0.4839\n",
      "Epoch 16/50\n",
      "50000/50000 [==============================] - 16s 316us/step - loss: 1.2654 - accuracy: 0.5465 - val_loss: 1.4519 - val_accuracy: 0.5031\n",
      "Epoch 17/50\n",
      "50000/50000 [==============================] - 16s 322us/step - loss: 1.2569 - accuracy: 0.5472 - val_loss: 1.4632 - val_accuracy: 0.4915\n",
      "Epoch 18/50\n",
      "50000/50000 [==============================] - 13s 269us/step - loss: 1.2407 - accuracy: 0.5519 - val_loss: 1.4464 - val_accuracy: 0.5018\n",
      "Epoch 19/50\n",
      "50000/50000 [==============================] - 14s 283us/step - loss: 1.2299 - accuracy: 0.5584 - val_loss: 1.4543 - val_accuracy: 0.4951\n",
      "Epoch 20/50\n",
      "50000/50000 [==============================] - 14s 271us/step - loss: 1.2157 - accuracy: 0.5624 - val_loss: 1.4680 - val_accuracy: 0.4943\n",
      "Epoch 21/50\n",
      "50000/50000 [==============================] - 15s 296us/step - loss: 1.2046 - accuracy: 0.5638 - val_loss: 1.5256 - val_accuracy: 0.4775\n",
      "Epoch 22/50\n",
      "50000/50000 [==============================] - 13s 269us/step - loss: 1.1903 - accuracy: 0.5698 - val_loss: 1.4478 - val_accuracy: 0.5013\n",
      "Epoch 23/50\n",
      "50000/50000 [==============================] - 15s 292us/step - loss: 1.1756 - accuracy: 0.5771 - val_loss: 1.5000 - val_accuracy: 0.4901\n",
      "Epoch 24/50\n",
      "50000/50000 [==============================] - 15s 296us/step - loss: 1.1678 - accuracy: 0.5777 - val_loss: 1.5127 - val_accuracy: 0.4832\n",
      "Epoch 25/50\n",
      "50000/50000 [==============================] - 14s 271us/step - loss: 1.1539 - accuracy: 0.5840 - val_loss: 1.5303 - val_accuracy: 0.4900\n",
      "Epoch 26/50\n",
      "50000/50000 [==============================] - 14s 285us/step - loss: 1.1423 - accuracy: 0.5875 - val_loss: 1.4951 - val_accuracy: 0.4935\n",
      "Epoch 27/50\n",
      "50000/50000 [==============================] - 14s 271us/step - loss: 1.1333 - accuracy: 0.5938 - val_loss: 1.5079 - val_accuracy: 0.4928\n",
      "Epoch 28/50\n",
      "50000/50000 [==============================] - 15s 295us/step - loss: 1.1263 - accuracy: 0.5924 - val_loss: 1.4963 - val_accuracy: 0.4965\n",
      "Epoch 29/50\n",
      "50000/50000 [==============================] - 14s 279us/step - loss: 1.1126 - accuracy: 0.5992 - val_loss: 1.5363 - val_accuracy: 0.4916\n",
      "Epoch 30/50\n",
      "50000/50000 [==============================] - 14s 281us/step - loss: 1.1080 - accuracy: 0.5998 - val_loss: 1.5746 - val_accuracy: 0.4901\n",
      "Epoch 31/50\n",
      "50000/50000 [==============================] - 16s 317us/step - loss: 1.0944 - accuracy: 0.6036 - val_loss: 1.5745 - val_accuracy: 0.4896\n",
      "Epoch 32/50\n",
      "50000/50000 [==============================] - 14s 277us/step - loss: 1.0823 - accuracy: 0.6099 - val_loss: 1.5261 - val_accuracy: 0.4940\n",
      "Epoch 33/50\n",
      "50000/50000 [==============================] - 14s 277us/step - loss: 1.0811 - accuracy: 0.6082 - val_loss: 1.5968 - val_accuracy: 0.4844\n",
      "Epoch 34/50\n",
      "50000/50000 [==============================] - 17s 330us/step - loss: 1.0701 - accuracy: 0.6111 - val_loss: 1.5545 - val_accuracy: 0.4940\n",
      "Epoch 35/50\n",
      "50000/50000 [==============================] - 16s 315us/step - loss: 1.0615 - accuracy: 0.6144 - val_loss: 1.5916 - val_accuracy: 0.4834\n",
      "Epoch 36/50\n",
      "50000/50000 [==============================] - 14s 278us/step - loss: 1.0548 - accuracy: 0.6184 - val_loss: 1.5828 - val_accuracy: 0.4860\n",
      "Epoch 37/50\n",
      "50000/50000 [==============================] - 14s 281us/step - loss: 1.0414 - accuracy: 0.6213 - val_loss: 1.6395 - val_accuracy: 0.4890\n",
      "Epoch 38/50\n",
      "50000/50000 [==============================] - 14s 271us/step - loss: 1.0354 - accuracy: 0.6221 - val_loss: 1.6190 - val_accuracy: 0.4905\n",
      "Epoch 39/50\n",
      "50000/50000 [==============================] - 14s 289us/step - loss: 1.0278 - accuracy: 0.6266 - val_loss: 1.6622 - val_accuracy: 0.4748\n",
      "Epoch 40/50\n",
      "50000/50000 [==============================] - 13s 270us/step - loss: 1.0192 - accuracy: 0.6310 - val_loss: 1.6624 - val_accuracy: 0.4819\n",
      "Epoch 41/50\n",
      "50000/50000 [==============================] - 15s 293us/step - loss: 1.0177 - accuracy: 0.6304 - val_loss: 1.6820 - val_accuracy: 0.4791\n",
      "Epoch 00041: early stopping\n"
     ]
    }
   ],
   "source": [
    "# 載入 Callbacks\n",
    "\"\"\"Code Here\n",
    "設定 callbacks: Earlystop\n",
    "\"\"\"\n",
    "from keras.callbacks import EarlyStopping\n",
    "\n",
    "results = {}\n",
    "\"\"\"Code Here\n",
    "撰寫你的訓練流程並將結果用 dictionary 紀錄\n",
    "\"\"\"\n",
    "for earlystop in EARLYSTOP:\n",
    "    model = build_mlp(x_train.shape[1:])\n",
    "    opt = keras.optimizers.Adam(learning_rate=LEARNING_RATE)\n",
    "    model.compile(loss='categorical_crossentropy', optimizer=opt, metrics=['accuracy'])\n",
    "    \n",
    "    callback_earlystop = EarlyStopping(monitor='val_accuracy', patience=earlystop, verbose=1)\n",
    "    model.fit(x_train, y_train,\n",
    "             epochs=EPOCHS,\n",
    "             batch_size=BATCH_SIZE,\n",
    "             validation_data=(x_test, y_test),\n",
    "             shuffle=True,\n",
    "             callbacks=[callback_earlystop])\n",
    "\n",
    "    exp_stop = 'exp_stop_%d' % earlystop\n",
    "    results[exp_stop] = {'loss': model.history.history['loss'],\n",
    "                         'val_loss': model.history.history['val_loss'],\n",
    "                         'accuracy': model.history.history['accuracy'],\n",
    "                         'val_accuracy': model.history.history['val_accuracy']}"
   ]
  },
  {
   "cell_type": "code",
   "execution_count": 10,
   "metadata": {},
   "outputs": [
    {
     "data": {
      "image/png": "[encoded data removed]",
      "text/plain": [
       "<Figure size 576x432 with 1 Axes>"
      ]
     },
     "metadata": {},
     "output_type": "display_data"
    },
    {
     "data": {
      "image/png": "[encoded data removed]",
      "text/plain": [
       "<Figure size 576x432 with 1 Axes>"
      ]
     },
     "metadata": {},
     "output_type": "display_data"
    }
   ],
   "source": [
    "import matplotlib.pyplot as plt\n",
    "%matplotlib inline\n",
    "\"\"\"Code Here\n",
    "將結果繪出\n",
    "\"\"\"\n",
    "color_bar = ['r', 'g', 'b', 'y', 'm', 'k']\n",
    "\n",
    "plt.figure(figsize=(8,6))\n",
    "for i, cond in enumerate(results.keys()):\n",
    "    plt.plot(range(len(results[cond]['loss'])), results[cond]['loss'], '-', label=cond, color=color_bar[i])\n",
    "    plt.plot(range(len(results[cond]['val_loss'])), results[cond]['val_loss'], '--', label=cond, color=color_bar[i])\n",
    "plt.title('loss')\n",
    "plt.legend()\n",
    "plt.show()\n",
    "\n",
    "plt.figure(figsize=(8,6))\n",
    "for i, cond in enumerate(results.keys()):\n",
    "    plt.plot(range(len(results[cond]['accuracy'])), results[cond]['accuracy'], '-', label=cond, color=color_bar[i])\n",
    "    plt.plot(range(len(results[cond]['val_accuracy'])), results[cond]['val_accuracy'], '--', label=cond, color=color_bar[i])\n",
    "plt.title('accuracy')\n",
    "plt.legend()\n",
    "plt.show()\n",
    "\n"
   ]
  },
  {
   "cell_type": "code",
   "execution_count": null,
   "metadata": {
    "collapsed": true
   },
   "outputs": [],
   "source": []
  }
 ],
 "metadata": {
  "kernelspec": {
   "display_name": "Python 3",
   "language": "python",
   "name": "python3"
  },
  "language_info": {
   "codemirror_mode": {
    "name": "ipython",
    "version": 3
   },
   "file_extension": ".py",
   "mimetype": "text/x-python",
   "name": "python",
   "nbconvert_exporter": "python",
   "pygments_lexer": "ipython3",
   "version": "3.6.8"
  }
 },
 "nbformat": 4,
 "nbformat_minor": 2
}
