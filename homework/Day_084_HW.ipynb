{
 "cells": [
  {
   "cell_type": "markdown",
   "metadata": {},
   "source": [
    "## Work\n",
    "### 請結合前面的知識與程式碼，比較不同的 regularization 的組合對訓練的結果與影響：如 dropout, regularizers, batch-normalization 等"
   ]
  },
  {
   "cell_type": "code",
   "execution_count": 5,
   "metadata": {},
   "outputs": [],
   "source": [
    "import os\n",
    "import keras\n",
    "import itertools\n",
    "# Disable GPU\n",
    "os.environ[\"CUDA_VISIBLE_DEVICES\"] = \"\""
   ]
  },
  {
   "cell_type": "code",
   "execution_count": 6,
   "metadata": {
    "collapsed": true
   },
   "outputs": [],
   "source": [
    "train, test = keras.datasets.cifar10.load_data()"
   ]
  },
  {
   "cell_type": "code",
   "execution_count": 7,
   "metadata": {
    "collapsed": true
   },
   "outputs": [],
   "source": [
    "## 資料前處理\n",
    "def preproc_x(x, flatten=True):\n",
    "    x = x / 255.\n",
    "    if flatten:\n",
    "        x = x.reshape((len(x), -1))\n",
    "    return x\n",
    "\n",
    "def preproc_y(y, num_classes=10):\n",
    "    if y.shape[-1] == 1:\n",
    "        y = keras.utils.to_categorical(y, num_classes)\n",
    "    return y    "
   ]
  },
  {
   "cell_type": "code",
   "execution_count": 8,
   "metadata": {
    "collapsed": true
   },
   "outputs": [],
   "source": [
    "x_train, y_train = train\n",
    "x_test, y_test = test\n",
    "\n",
    "# Preproc the inputs\n",
    "x_train = preproc_x(x_train)\n",
    "x_test = preproc_x(x_test)\n",
    "\n",
    "# Preprc the outputs\n",
    "y_train = preproc_y(y_train)\n",
    "y_test = preproc_y(y_test)"
   ]
  },
  {
   "cell_type": "code",
   "execution_count": 11,
   "metadata": {
    "collapsed": true
   },
   "outputs": [],
   "source": [
    "\n",
    "def build_mlp(input_shape, num_class=10):\n",
    "    \"\"\"Code Here\n",
    "    建立你的神經網路\n",
    "    \"\"\"\n",
    "    input_layer = keras.models.Input(input_shape)\n",
    "    x = keras.layers.Dense(units=512, activation='relu', name='hidden_layer1', kernel_regularizer=keras.regularizers.l2(1e-4))(input_layer)\n",
    "    x = keras.layers.Dropout(0.2)(x)\n",
    "    x = keras.layers.BatchNormalization()(x)\n",
    "    \n",
    "    x = keras.layers.Dense(units=256, activation='relu', name='hidden_layer2')(x)\n",
    "    x = keras.layers.BatchNormalization()(x)\n",
    "    \n",
    "    x = keras.layers.Dense(units=128, activation='relu', name='hidden_layer3')(x)\n",
    "    x = keras.layers.BatchNormalization()(x)\n",
    "    \n",
    "    out = keras.layers.Dense(units=num_class, activation='softmax', name='output')(x)\n",
    "    model = keras.models.Model(input=[input_layer], output=[out])\n",
    "    return model"
   ]
  },
  {
   "cell_type": "code",
   "execution_count": 12,
   "metadata": {
    "collapsed": true
   },
   "outputs": [],
   "source": [
    "\"\"\"Code Here\n",
    "設定超參數\n",
    "\"\"\"\n",
    "EPOCHS = 50\n",
    "BATCH_SIZE = 32\n",
    "LEARNING_RATE = 1e-3\n",
    "MOMENTUM = 0.95"
   ]
  },
  {
   "cell_type": "code",
   "execution_count": 13,
   "metadata": {
    "scrolled": true
   },
   "outputs": [
    {
     "name": "stderr",
     "output_type": "stream",
     "text": [
      "C:\\ProgramData\\Anaconda3\\lib\\site-packages\\ipykernel_launcher.py:18: UserWarning: Update your `Model` call to the Keras 2 API: `Model(inputs=[<tf.Tenso..., outputs=[<tf.Tenso...)`\n"
     ]
    },
    {
     "name": "stdout",
     "output_type": "stream",
     "text": [
      "Model: \"model_1\"\n",
      "_________________________________________________________________\n",
      "Layer (type)                 Output Shape              Param #   \n",
      "=================================================================\n",
      "input_2 (InputLayer)         (None, 3072)              0         \n",
      "_________________________________________________________________\n",
      "hidden_layer1 (Dense)        (None, 512)               1573376   \n",
      "_________________________________________________________________\n",
      "dropout_2 (Dropout)          (None, 512)               0         \n",
      "_________________________________________________________________\n",
      "batch_normalization_2 (Batch (None, 512)               2048      \n",
      "_________________________________________________________________\n",
      "hidden_layer2 (Dense)        (None, 256)               131328    \n",
      "_________________________________________________________________\n",
      "batch_normalization_3 (Batch (None, 256)               1024      \n",
      "_________________________________________________________________\n",
      "hidden_layer3 (Dense)        (None, 128)               32896     \n",
      "_________________________________________________________________\n",
      "batch_normalization_4 (Batch (None, 128)               512       \n",
      "_________________________________________________________________\n",
      "output (Dense)               (None, 10)                1290      \n",
      "=================================================================\n",
      "Total params: 1,742,474\n",
      "Trainable params: 1,740,682\n",
      "Non-trainable params: 1,792\n",
      "_________________________________________________________________\n",
      "Train on 50000 samples, validate on 10000 samples\n",
      "Epoch 1/50\n",
      "50000/50000 [==============================] - 19s 375us/step - loss: 2.0118 - accuracy: 0.3163 - val_loss: 1.8422 - val_accuracy: 0.3647\n",
      "Epoch 2/50\n",
      "50000/50000 [==============================] - 19s 371us/step - loss: 1.8726 - accuracy: 0.3570 - val_loss: 1.8366 - val_accuracy: 0.3642\n",
      "Epoch 3/50\n",
      "50000/50000 [==============================] - 18s 370us/step - loss: 1.8620 - accuracy: 0.3623 - val_loss: 1.7897 - val_accuracy: 0.3861\n",
      "Epoch 4/50\n",
      "50000/50000 [==============================] - 18s 357us/step - loss: 1.8704 - accuracy: 0.3603 - val_loss: 1.7899 - val_accuracy: 0.3866\n",
      "Epoch 5/50\n",
      "50000/50000 [==============================] - 17s 346us/step - loss: 1.8254 - accuracy: 0.3747 - val_loss: 1.7546 - val_accuracy: 0.4013\n",
      "Epoch 6/50\n",
      "50000/50000 [==============================] - 18s 361us/step - loss: 1.8094 - accuracy: 0.3792 - val_loss: 1.6812 - val_accuracy: 0.4327\n",
      "Epoch 7/50\n",
      "50000/50000 [==============================] - 18s 356us/step - loss: 1.7824 - accuracy: 0.3888 - val_loss: 1.6771 - val_accuracy: 0.4200\n",
      "Epoch 8/50\n",
      "50000/50000 [==============================] - 18s 357us/step - loss: 1.7777 - accuracy: 0.3922 - val_loss: 1.6755 - val_accuracy: 0.4294\n",
      "Epoch 9/50\n",
      "50000/50000 [==============================] - 19s 385us/step - loss: 1.7405 - accuracy: 0.4023 - val_loss: 1.6416 - val_accuracy: 0.4436\n",
      "Epoch 10/50\n",
      "50000/50000 [==============================] - 21s 411us/step - loss: 1.7248 - accuracy: 0.4102 - val_loss: 1.6297 - val_accuracy: 0.4456\n",
      "Epoch 11/50\n",
      "50000/50000 [==============================] - 17s 340us/step - loss: 1.7229 - accuracy: 0.4104 - val_loss: 1.7283 - val_accuracy: 0.4183\n",
      "Epoch 12/50\n",
      "50000/50000 [==============================] - 17s 344us/step - loss: 1.7214 - accuracy: 0.4113 - val_loss: 2.0652 - val_accuracy: 0.3017\n",
      "Epoch 13/50\n",
      "50000/50000 [==============================] - 17s 345us/step - loss: 1.7129 - accuracy: 0.4139 - val_loss: 1.5999 - val_accuracy: 0.4580\n",
      "Epoch 14/50\n",
      "50000/50000 [==============================] - 19s 390us/step - loss: 1.6969 - accuracy: 0.4228 - val_loss: 1.6766 - val_accuracy: 0.4241\n",
      "Epoch 15/50\n",
      "50000/50000 [==============================] - 19s 380us/step - loss: 1.6793 - accuracy: 0.4275 - val_loss: 1.5775 - val_accuracy: 0.4631\n",
      "Epoch 16/50\n",
      "50000/50000 [==============================] - 20s 391us/step - loss: 1.6808 - accuracy: 0.4239 - val_loss: 1.5804 - val_accuracy: 0.4734\n",
      "Epoch 17/50\n",
      "50000/50000 [==============================] - 18s 368us/step - loss: 1.7005 - accuracy: 0.4196 - val_loss: 1.6481 - val_accuracy: 0.4404\n",
      "Epoch 18/50\n",
      "50000/50000 [==============================] - 18s 353us/step - loss: 1.6770 - accuracy: 0.4280 - val_loss: 1.5706 - val_accuracy: 0.4691\n",
      "Epoch 19/50\n",
      "50000/50000 [==============================] - 18s 351us/step - loss: 1.6612 - accuracy: 0.4348 - val_loss: 1.5951 - val_accuracy: 0.4502\n",
      "Epoch 20/50\n",
      "50000/50000 [==============================] - 18s 355us/step - loss: 1.6539 - accuracy: 0.4341 - val_loss: 1.6274 - val_accuracy: 0.4488\n",
      "Epoch 21/50\n",
      "50000/50000 [==============================] - 18s 354us/step - loss: 1.6721 - accuracy: 0.4261 - val_loss: 1.6343 - val_accuracy: 0.4413\n",
      "Epoch 22/50\n",
      "50000/50000 [==============================] - 19s 376us/step - loss: 1.6688 - accuracy: 0.4285 - val_loss: 1.6257 - val_accuracy: 0.4532\n",
      "Epoch 23/50\n",
      "50000/50000 [==============================] - 17s 350us/step - loss: 1.6621 - accuracy: 0.4350 - val_loss: 1.6815 - val_accuracy: 0.4324\n",
      "Epoch 24/50\n",
      "50000/50000 [==============================] - 18s 351us/step - loss: 1.6558 - accuracy: 0.4322 - val_loss: 1.6102 - val_accuracy: 0.4532\n",
      "Epoch 25/50\n",
      "50000/50000 [==============================] - 17s 349us/step - loss: 1.6460 - accuracy: 0.4371 - val_loss: 1.6636 - val_accuracy: 0.4317\n",
      "Epoch 26/50\n",
      "50000/50000 [==============================] - 17s 348us/step - loss: 1.6370 - accuracy: 0.4442 - val_loss: 1.5922 - val_accuracy: 0.4620\n",
      "Epoch 27/50\n",
      "50000/50000 [==============================] - 17s 349us/step - loss: 1.6270 - accuracy: 0.4424 - val_loss: 1.6005 - val_accuracy: 0.4537\n",
      "Epoch 28/50\n",
      "50000/50000 [==============================] - 18s 358us/step - loss: 1.6432 - accuracy: 0.4375 - val_loss: 1.6181 - val_accuracy: 0.4413\n",
      "Epoch 29/50\n",
      "50000/50000 [==============================] - 18s 361us/step - loss: 1.6458 - accuracy: 0.4323 - val_loss: 1.6378 - val_accuracy: 0.4418\n",
      "Epoch 30/50\n",
      "50000/50000 [==============================] - 18s 357us/step - loss: 1.6248 - accuracy: 0.4421 - val_loss: 1.6194 - val_accuracy: 0.4485\n",
      "Epoch 31/50\n",
      "50000/50000 [==============================] - 18s 356us/step - loss: 1.6371 - accuracy: 0.4380 - val_loss: 1.5931 - val_accuracy: 0.4656\n",
      "Epoch 32/50\n",
      "50000/50000 [==============================] - 18s 352us/step - loss: 1.6358 - accuracy: 0.4389 - val_loss: 1.5895 - val_accuracy: 0.4562\n",
      "Epoch 33/50\n",
      "50000/50000 [==============================] - 19s 373us/step - loss: 1.6392 - accuracy: 0.4340 - val_loss: 1.6026 - val_accuracy: 0.4586\n",
      "Epoch 34/50\n",
      "50000/50000 [==============================] - 18s 353us/step - loss: 1.6225 - accuracy: 0.4429 - val_loss: 1.5809 - val_accuracy: 0.4696\n",
      "Epoch 35/50\n",
      "50000/50000 [==============================] - 18s 355us/step - loss: 1.6218 - accuracy: 0.4409 - val_loss: 1.5913 - val_accuracy: 0.4593\n",
      "Epoch 36/50\n",
      "50000/50000 [==============================] - 18s 355us/step - loss: 1.6283 - accuracy: 0.4400 - val_loss: 1.5350 - val_accuracy: 0.4840\n",
      "Epoch 37/50\n",
      "50000/50000 [==============================] - 18s 355us/step - loss: 1.6204 - accuracy: 0.4437 - val_loss: 1.5791 - val_accuracy: 0.4633\n",
      "Epoch 38/50\n",
      "50000/50000 [==============================] - 18s 355us/step - loss: 1.6168 - accuracy: 0.4455 - val_loss: 1.5804 - val_accuracy: 0.4714\n",
      "Epoch 39/50\n",
      "50000/50000 [==============================] - 18s 353us/step - loss: 1.6150 - accuracy: 0.4457 - val_loss: 1.6427 - val_accuracy: 0.4445\n",
      "Epoch 40/50\n",
      "50000/50000 [==============================] - 18s 351us/step - loss: 1.6265 - accuracy: 0.4405 - val_loss: 1.5940 - val_accuracy: 0.4727\n",
      "Epoch 41/50\n",
      "50000/50000 [==============================] - 18s 355us/step - loss: 1.6078 - accuracy: 0.4490 - val_loss: 1.5537 - val_accuracy: 0.4720\n",
      "Epoch 42/50\n",
      "50000/50000 [==============================] - 19s 379us/step - loss: 1.5974 - accuracy: 0.4495 - val_loss: 1.5819 - val_accuracy: 0.4680\n",
      "Epoch 43/50\n",
      "50000/50000 [==============================] - 18s 355us/step - loss: 1.5955 - accuracy: 0.4527 - val_loss: 1.6028 - val_accuracy: 0.4574\n",
      "Epoch 44/50\n",
      "50000/50000 [==============================] - 18s 364us/step - loss: 1.5812 - accuracy: 0.4583 - val_loss: 1.6029 - val_accuracy: 0.4637\n",
      "Epoch 45/50\n"
     ]
    },
    {
     "name": "stdout",
     "output_type": "stream",
     "text": [
      "50000/50000 [==============================] - 19s 386us/step - loss: 1.5964 - accuracy: 0.4512 - val_loss: 1.6624 - val_accuracy: 0.4352\n",
      "Epoch 46/50\n",
      "50000/50000 [==============================] - 19s 380us/step - loss: 1.5949 - accuracy: 0.4529 - val_loss: 1.5974 - val_accuracy: 0.4610\n",
      "Epoch 47/50\n",
      "50000/50000 [==============================] - 18s 359us/step - loss: 1.5787 - accuracy: 0.4588 - val_loss: 1.5805 - val_accuracy: 0.4652\n",
      "Epoch 48/50\n",
      "50000/50000 [==============================] - 18s 364us/step - loss: 1.5752 - accuracy: 0.4606 - val_loss: 1.6472 - val_accuracy: 0.4438\n",
      "Epoch 49/50\n",
      "50000/50000 [==============================] - 18s 364us/step - loss: 1.5827 - accuracy: 0.4555 - val_loss: 1.5583 - val_accuracy: 0.4712\n",
      "Epoch 50/50\n",
      "50000/50000 [==============================] - 18s 355us/step - loss: 1.5706 - accuracy: 0.4592 - val_loss: 1.5935 - val_accuracy: 0.4590\n"
     ]
    },
    {
     "ename": "NameError",
     "evalue": "name 'batch_size' is not defined",
     "output_type": "error",
     "traceback": [
      "\u001b[1;31m---------------------------------------------------------------------------\u001b[0m",
      "\u001b[1;31mNameError\u001b[0m                                 Traceback (most recent call last)",
      "\u001b[1;32m<ipython-input-13-740f2817b415>\u001b[0m in \u001b[0;36m<module>\u001b[1;34m()\u001b[0m\n\u001b[0;32m     16\u001b[0m \u001b[1;33m\u001b[0m\u001b[0m\n\u001b[0;32m     17\u001b[0m \u001b[1;31m# Collect results\u001b[0m\u001b[1;33m\u001b[0m\u001b[1;33m\u001b[0m\u001b[1;33m\u001b[0m\u001b[0m\n\u001b[1;32m---> 18\u001b[1;33m \u001b[0mexp_msg\u001b[0m \u001b[1;33m=\u001b[0m \u001b[1;34m'exp_batch_%d'\u001b[0m \u001b[1;33m%\u001b[0m \u001b[0mbatch_size\u001b[0m\u001b[1;33m\u001b[0m\u001b[1;33m\u001b[0m\u001b[0m\n\u001b[0m\u001b[0;32m     19\u001b[0m results[exp_msg] = {'loss': model.history.history[\"loss\"],\n\u001b[0;32m     20\u001b[0m                     \u001b[1;34m'val_loss'\u001b[0m\u001b[1;33m:\u001b[0m \u001b[0mmodel\u001b[0m\u001b[1;33m.\u001b[0m\u001b[0mhistory\u001b[0m\u001b[1;33m.\u001b[0m\u001b[0mhistory\u001b[0m\u001b[1;33m[\u001b[0m\u001b[1;34m\"val_loss\"\u001b[0m\u001b[1;33m]\u001b[0m\u001b[1;33m,\u001b[0m\u001b[1;33m\u001b[0m\u001b[1;33m\u001b[0m\u001b[0m\n",
      "\u001b[1;31mNameError\u001b[0m: name 'batch_size' is not defined"
     ]
    }
   ],
   "source": [
    "results = {}\n",
    "\"\"\"Code Here\n",
    "撰寫你的訓練流程並將結果用 dictionary 紀錄\n",
    "\"\"\"\n",
    "\n",
    "model = build_mlp(input_shape=x_train.shape[1:])\n",
    "model.summary()\n",
    "optimizer = keras.optimizers.SGD(lr=LEARNING_RATE, nesterov=True, momentum=MOMENTUM)\n",
    "model.compile(loss=\"categorical_crossentropy\", metrics=[\"accuracy\"], optimizer=optimizer)\n",
    "\n",
    "model.fit(x_train, y_train, \n",
    "          epochs=EPOCHS, \n",
    "          batch_size=BATCH_SIZE, \n",
    "          validation_data=(x_test, y_test), \n",
    "          shuffle=True)\n",
    "\n",
    "# Collect results\n",
    "results['exp'] = {'loss': model.history.history[\"loss\"],\n",
    "                    'val_loss': model.history.history[\"val_loss\"],\n",
    "                    'train_acc': model.history.history[\"accuracy\"],\n",
    "                    'val_acc': model.history.history[\"val_accuracy\"]}\n"
   ]
  },
  {
   "cell_type": "code",
   "execution_count": 14,
   "metadata": {
    "collapsed": true
   },
   "outputs": [],
   "source": [
    "\n",
    "# Collect results\n",
    "results['exp'] = {'loss': model.history.history[\"loss\"],\n",
    "                    'val_loss': model.history.history[\"val_loss\"],\n",
    "                    'train_acc': model.history.history[\"accuracy\"],\n",
    "                    'val_acc': model.history.history[\"val_accuracy\"]}\n"
   ]
  },
  {
   "cell_type": "code",
   "execution_count": 17,
   "metadata": {},
   "outputs": [
    {
     "data": {
      "image/png": "[encoded data removed]",
      "text/plain": [
       "<Figure size 432x288 with 1 Axes>"
      ]
     },
     "metadata": {},
     "output_type": "display_data"
    },
    {
     "data": {
      "image/png": "[encoded data removed]",
      "text/plain": [
       "<Figure size 432x288 with 1 Axes>"
      ]
     },
     "metadata": {},
     "output_type": "display_data"
    }
   ],
   "source": [
    "import matplotlib.pyplot as plt\n",
    "%matplotlib inline\n",
    "\n",
    "color_bar = ['b', 'r', 'b', 'y', 'm', 'k']\n",
    "for i, cond in enumerate(results.keys()):\n",
    "    plt.plot(range(len(results[cond]['loss'])), results[cond]['loss'], '-', label=cond, color=color_bar[i])\n",
    "    plt.plot(range(len(results[cond]['val_loss'])), results[cond]['val_loss'], '--', label=cond, color=color_bar[i])\n",
    "plt.legend()\n",
    "plt.title(\"Loss\")\n",
    "plt.show()\n",
    "\n",
    "for i, cond in enumerate(results.keys()):\n",
    "    plt.plot(range(len(results[cond]['train_acc'])), results[cond]['train_acc'], '-', label=cond, color=color_bar[i])\n",
    "    plt.plot(range(len(results[cond]['val_acc'])), results[cond]['val_acc'], '--', label=cond, color=color_bar[i])\n",
    "plt.legend()\n",
    "plt.title(\"Accuracy\")\n",
    "plt.show()"
   ]
  },
  {
   "cell_type": "code",
   "execution_count": null,
   "metadata": {
    "collapsed": true
   },
   "outputs": [],
   "source": []
  }
 ],
 "metadata": {
  "kernelspec": {
   "display_name": "Python 3",
   "language": "python",
   "name": "python3"
  },
  "language_info": {
   "codemirror_mode": {
    "name": "ipython",
    "version": 3
   },
   "file_extension": ".py",
   "mimetype": "text/x-python",
   "name": "python",
   "nbconvert_exporter": "python",
   "pygments_lexer": "ipython3",
   "version": "3.6.8"
  }
 },
 "nbformat": 4,
 "nbformat_minor": 2
}
