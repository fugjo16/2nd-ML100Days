{
 "cells": [
  {
   "cell_type": "markdown",
   "metadata": {},
   "source": [
    "## Work\n",
    "1. 請嘗試寫一個 callback 用來記錄各類別在訓練過程中，對驗證集的 True Positive 與 True Negative"
   ]
  },
  {
   "cell_type": "code",
   "execution_count": 1,
   "metadata": {},
   "outputs": [
    {
     "name": "stderr",
     "output_type": "stream",
     "text": [
      "Using TensorFlow backend.\n"
     ]
    }
   ],
   "source": [
    "import os\n",
    "import keras\n",
    "\n",
    "# Disable GPU\n",
    "os.environ[\"CUDA_VISIBLE_DEVICES\"] = \"\""
   ]
  },
  {
   "cell_type": "code",
   "execution_count": 2,
   "metadata": {
    "collapsed": true
   },
   "outputs": [],
   "source": [
    "train, test = keras.datasets.cifar10.load_data()"
   ]
  },
  {
   "cell_type": "code",
   "execution_count": 3,
   "metadata": {
    "collapsed": true
   },
   "outputs": [],
   "source": [
    "## 資料前處理\n",
    "def preproc_x(x, flatten=True):\n",
    "    x = x / 255.\n",
    "    if flatten:\n",
    "        x = x.reshape((len(x), -1))\n",
    "    return x\n",
    "\n",
    "def preproc_y(y, num_classes=10):\n",
    "    if y.shape[-1] == 1:\n",
    "        y = keras.utils.to_categorical(y, num_classes)\n",
    "    return y    "
   ]
  },
  {
   "cell_type": "code",
   "execution_count": 4,
   "metadata": {
    "collapsed": true
   },
   "outputs": [],
   "source": [
    "x_train, y_train = train\n",
    "x_test, y_test = test\n",
    "\n",
    "# Preproc the inputs\n",
    "x_train = preproc_x(x_train)\n",
    "x_test = preproc_x(x_test)\n",
    "\n",
    "# Preprc the outputs\n",
    "y_train = preproc_y(y_train)\n",
    "y_test = preproc_y(y_test)"
   ]
  },
  {
   "cell_type": "code",
   "execution_count": 5,
   "metadata": {
    "collapsed": true
   },
   "outputs": [],
   "source": [
    "from keras.layers import BatchNormalization\n",
    "\n",
    "\"\"\"\n",
    "建立神經網路，並加入 BN layer\n",
    "\"\"\"\n",
    "def build_mlp(input_shape, output_units=10, num_neurons=[512, 256, 128]):\n",
    "    input_layer = keras.layers.Input(input_shape)\n",
    "    \n",
    "    for i, n_units in enumerate(num_neurons):\n",
    "        if i == 0:\n",
    "            x = keras.layers.Dense(units=n_units, \n",
    "                                   activation=\"relu\", \n",
    "                                   name=\"hidden_layer\"+str(i+1))(input_layer)\n",
    "            x = BatchNormalization()(x)\n",
    "        else:\n",
    "            x = keras.layers.Dense(units=n_units, \n",
    "                                   activation=\"relu\", \n",
    "                                   name=\"hidden_layer\"+str(i+1))(x)\n",
    "            x = BatchNormalization()(x)\n",
    "    \n",
    "    out = keras.layers.Dense(units=output_units, activation=\"softmax\", name=\"output\")(x)\n",
    "    \n",
    "    model = keras.models.Model(inputs=[input_layer], outputs=[out])\n",
    "    return model"
   ]
  },
  {
   "cell_type": "code",
   "execution_count": 24,
   "metadata": {
    "collapsed": true
   },
   "outputs": [],
   "source": [
    "## 超參數設定\n",
    "LEARNING_RATE = 1e-3\n",
    "EPOCHS = 25\n",
    "BATCH_SIZE = 1024\n",
    "MOMENTUM = 0.95"
   ]
  },
  {
   "cell_type": "code",
   "execution_count": 25,
   "metadata": {},
   "outputs": [],
   "source": [
    "# 載入 Callbacks\n",
    "from keras.callbacks import Callback\n",
    "\n",
    "# Record_fp_tp\n",
    "class Record_tp_tn(Callback):\n",
    "    \"\"\"Code Here\n",
    "    撰寫一個紀錄 ture positive 與 true negative 數量的 callbacks    \n",
    "    \"\"\"\n",
    "    def on_train_begin(self, epoch, logs = {}):\n",
    "        logs = logs or {}\n",
    "        record_items = [\"valid_tp\", \"valid_tn\"]\n",
    "        for i in record_items:\n",
    "            if i not in self.params['metrics']:\n",
    "                self.params['metrics'].append(i)\n",
    "                \n",
    "    def on_epoch_end(self, epoch, logs = {}, thres=0.5):\n",
    "        logs = logs or {}\n",
    "        y_true = self.validation_data[1].argmax(axis = 1)\n",
    "        y_pred = self.model.predict(self.validation_data[0])\n",
    "        y_pred = (y_pred[:, 1] >= thres) * 1\n",
    "        \n",
    "        logs['valid_tp'] = logs['valid_tn'] = 0\n",
    "        for i in range(len(y_true)): \n",
    "            if y_true[i] == 1 and y_pred[i] == 1:\n",
    "                logs['valid_tp'] = logs['valid_tp'] + 1\n",
    "            elif y_true[i] == 0 and y_pred[i] == 0:\n",
    "                logs['valid_tn'] = logs['valid_tn'] + 1\n",
    "        \n",
    "        \n",
    "rec_tptn = Record_tp_tn()"
   ]
  },
  {
   "cell_type": "code",
   "execution_count": 26,
   "metadata": {},
   "outputs": [
    {
     "name": "stdout",
     "output_type": "stream",
     "text": [
      "dict_keys(['val_loss', 'val_accuracy', 'loss', 'accuracy', 'valid_tp', 'valid_tn'])\n"
     ]
    }
   ],
   "source": [
    "print(model.history.history.keys())"
   ]
  },
  {
   "cell_type": "code",
   "execution_count": 27,
   "metadata": {
    "scrolled": true
   },
   "outputs": [
    {
     "name": "stdout",
     "output_type": "stream",
     "text": [
      "Model: \"model_7\"\n",
      "_________________________________________________________________\n",
      "Layer (type)                 Output Shape              Param #   \n",
      "=================================================================\n",
      "input_7 (InputLayer)         (None, 3072)              0         \n",
      "_________________________________________________________________\n",
      "hidden_layer1 (Dense)        (None, 512)               1573376   \n",
      "_________________________________________________________________\n",
      "batch_normalization_19 (Batc (None, 512)               2048      \n",
      "_________________________________________________________________\n",
      "hidden_layer2 (Dense)        (None, 256)               131328    \n",
      "_________________________________________________________________\n",
      "batch_normalization_20 (Batc (None, 256)               1024      \n",
      "_________________________________________________________________\n",
      "hidden_layer3 (Dense)        (None, 128)               32896     \n",
      "_________________________________________________________________\n",
      "batch_normalization_21 (Batc (None, 128)               512       \n",
      "_________________________________________________________________\n",
      "output (Dense)               (None, 10)                1290      \n",
      "=================================================================\n",
      "Total params: 1,742,474\n",
      "Trainable params: 1,740,682\n",
      "Non-trainable params: 1,792\n",
      "_________________________________________________________________\n",
      "Train on 50000 samples, validate on 10000 samples\n",
      "Epoch 1/25\n",
      "50000/50000 [==============================] - 3s 60us/step - loss: 2.2133 - accuracy: 0.2745 - val_loss: 2.1499 - val_accuracy: 0.1878\n",
      "Epoch 2/25\n",
      "50000/50000 [==============================] - 2s 47us/step - loss: 1.7425 - accuracy: 0.3960 - val_loss: 1.9775 - val_accuracy: 0.2686\n",
      "Epoch 3/25\n",
      "50000/50000 [==============================] - 2s 47us/step - loss: 1.6160 - accuracy: 0.4365 - val_loss: 1.8183 - val_accuracy: 0.3621\n",
      "Epoch 4/25\n",
      "50000/50000 [==============================] - 2s 47us/step - loss: 1.5457 - accuracy: 0.4609 - val_loss: 1.7223 - val_accuracy: 0.3985\n",
      "Epoch 5/25\n",
      "50000/50000 [==============================] - 2s 47us/step - loss: 1.4928 - accuracy: 0.4786 - val_loss: 1.6464 - val_accuracy: 0.4229\n",
      "Epoch 6/25\n",
      "50000/50000 [==============================] - 2s 47us/step - loss: 1.4458 - accuracy: 0.4971 - val_loss: 1.5898 - val_accuracy: 0.4419\n",
      "Epoch 7/25\n",
      "50000/50000 [==============================] - 2s 46us/step - loss: 1.4068 - accuracy: 0.5101 - val_loss: 1.5632 - val_accuracy: 0.4420\n",
      "Epoch 8/25\n",
      "50000/50000 [==============================] - 2s 46us/step - loss: 1.3718 - accuracy: 0.5215 - val_loss: 1.5267 - val_accuracy: 0.4503\n",
      "Epoch 9/25\n",
      "50000/50000 [==============================] - 2s 46us/step - loss: 1.3381 - accuracy: 0.5343 - val_loss: 1.5073 - val_accuracy: 0.4636\n",
      "Epoch 10/25\n",
      "50000/50000 [==============================] - 2s 47us/step - loss: 1.3101 - accuracy: 0.5431 - val_loss: 1.5025 - val_accuracy: 0.4659\n",
      "Epoch 11/25\n",
      "50000/50000 [==============================] - 2s 46us/step - loss: 1.2822 - accuracy: 0.5536 - val_loss: 1.4838 - val_accuracy: 0.4762\n",
      "Epoch 12/25\n",
      "50000/50000 [==============================] - 2s 47us/step - loss: 1.2545 - accuracy: 0.5635 - val_loss: 1.4816 - val_accuracy: 0.4751\n",
      "Epoch 13/25\n",
      "50000/50000 [==============================] - 2s 47us/step - loss: 1.2275 - accuracy: 0.5751 - val_loss: 1.4675 - val_accuracy: 0.4846\n",
      "Epoch 14/25\n",
      "50000/50000 [==============================] - 2s 47us/step - loss: 1.2023 - accuracy: 0.5849 - val_loss: 1.4628 - val_accuracy: 0.4830\n",
      "Epoch 15/25\n",
      "50000/50000 [==============================] - 2s 47us/step - loss: 1.1793 - accuracy: 0.5927 - val_loss: 1.4601 - val_accuracy: 0.4856\n",
      "Epoch 16/25\n",
      "50000/50000 [==============================] - 2s 47us/step - loss: 1.1547 - accuracy: 0.6014 - val_loss: 1.4664 - val_accuracy: 0.4839\n",
      "Epoch 17/25\n",
      "50000/50000 [==============================] - 2s 46us/step - loss: 1.1310 - accuracy: 0.6124 - val_loss: 1.4557 - val_accuracy: 0.4909\n",
      "Epoch 18/25\n",
      "50000/50000 [==============================] - 2s 46us/step - loss: 1.1074 - accuracy: 0.6203 - val_loss: 1.4531 - val_accuracy: 0.4886\n",
      "Epoch 19/25\n",
      "50000/50000 [==============================] - 2s 46us/step - loss: 1.0850 - accuracy: 0.6305 - val_loss: 1.4502 - val_accuracy: 0.4905\n",
      "Epoch 20/25\n",
      "50000/50000 [==============================] - 2s 46us/step - loss: 1.0628 - accuracy: 0.6397 - val_loss: 1.4523 - val_accuracy: 0.4926\n",
      "Epoch 21/25\n",
      "50000/50000 [==============================] - 2s 48us/step - loss: 1.0406 - accuracy: 0.6467 - val_loss: 1.4474 - val_accuracy: 0.4918\n",
      "Epoch 22/25\n",
      "50000/50000 [==============================] - 2s 48us/step - loss: 1.0185 - accuracy: 0.6556 - val_loss: 1.4524 - val_accuracy: 0.4908\n",
      "Epoch 23/25\n",
      "50000/50000 [==============================] - 2s 48us/step - loss: 0.9988 - accuracy: 0.6626 - val_loss: 1.4565 - val_accuracy: 0.4941\n",
      "Epoch 24/25\n",
      "50000/50000 [==============================] - 2s 47us/step - loss: 0.9776 - accuracy: 0.6717 - val_loss: 1.4675 - val_accuracy: 0.4888\n",
      "Epoch 25/25\n",
      "50000/50000 [==============================] - 2s 46us/step - loss: 0.9573 - accuracy: 0.6789 - val_loss: 1.4546 - val_accuracy: 0.4924\n"
     ]
    }
   ],
   "source": [
    "model = build_mlp(input_shape=x_train.shape[1:])\n",
    "model.summary()\n",
    "optimizer = keras.optimizers.SGD(lr=LEARNING_RATE, nesterov=True, momentum=MOMENTUM)\n",
    "model.compile(loss=\"categorical_crossentropy\", metrics=[\"accuracy\"], optimizer=optimizer)\n",
    "\n",
    "\"\"\"Code Here\n",
    "將 callbacks 放入模型訓練流程中\n",
    "\"\"\"\n",
    "model.fit(x_train, y_train, \n",
    "          epochs=EPOCHS, \n",
    "          batch_size=BATCH_SIZE, \n",
    "          validation_data=(x_test, y_test), \n",
    "          shuffle=True, \n",
    "          callbacks=[rec_tptn])\n",
    "\n",
    "# Collect results\n",
    "train_loss = model.history.history[\"loss\"]\n",
    "valid_loss = model.history.history[\"val_loss\"]\n",
    "train_acc = model.history.history[\"accuracy\"]\n",
    "valid_acc = model.history.history[\"val_accuracy\"]\n",
    "\n",
    "\"\"\"Code Here\n",
    "將 tp/tn 從訓練完的模型中取出\n",
    "\"\"\"\n",
    "valid_tp = model.history.history['valid_tp']\n",
    "valid_tn = model.history.history['valid_tn']"
   ]
  },
  {
   "cell_type": "code",
   "execution_count": 28,
   "metadata": {},
   "outputs": [
    {
     "data": {
      "image/png": "[encoded data removed]",
      "text/plain": [
       "<Figure size 432x288 with 1 Axes>"
      ]
     },
     "metadata": {},
     "output_type": "display_data"
    },
    {
     "data": {
      "image/png": "[encoded data removed]",
      "text/plain": [
       "<Figure size 432x288 with 1 Axes>"
      ]
     },
     "metadata": {},
     "output_type": "display_data"
    },
    {
     "data": {
      "image/png": "[encoded data removed]",
      "text/plain": [
       "<Figure size 432x288 with 1 Axes>"
      ]
     },
     "metadata": {},
     "output_type": "display_data"
    }
   ],
   "source": [
    "import matplotlib.pyplot as plt\n",
    "%matplotlib inline\n",
    "\n",
    "plt.plot(range(len(train_loss)), train_loss, label=\"train loss\")\n",
    "plt.plot(range(len(valid_loss)), valid_loss, label=\"valid loss\")\n",
    "plt.legend()\n",
    "plt.title(\"Loss\")\n",
    "plt.show()\n",
    "\n",
    "plt.plot(range(len(train_acc)), train_acc, label=\"train accuracy\")\n",
    "plt.plot(range(len(valid_acc)), valid_acc, label=\"valid accuracy\")\n",
    "plt.legend()\n",
    "plt.title(\"Accuracy\")\n",
    "plt.show()\n",
    "\n",
    "plt.plot(range(len(valid_tp)), valid_tp, label=\"valid tp\", color=\"navy\")\n",
    "plt.plot(range(len(valid_tn)), valid_tn, label=\"valid tn\", color=\"red\")\n",
    "plt.legend()\n",
    "plt.title(\"True positives and True Negatives\")\n",
    "plt.show()\n"
   ]
  },
  {
   "cell_type": "code",
   "execution_count": null,
   "metadata": {
    "collapsed": true
   },
   "outputs": [],
   "source": []
  }
 ],
 "metadata": {
  "kernelspec": {
   "display_name": "Python 3",
   "language": "python",
   "name": "python3"
  },
  "language_info": {
   "codemirror_mode": {
    "name": "ipython",
    "version": 3
   },
   "file_extension": ".py",
   "mimetype": "text/x-python",
   "name": "python",
   "nbconvert_exporter": "python",
   "pygments_lexer": "ipython3",
   "version": "3.6.8"
  }
 },
 "nbformat": 4,
 "nbformat_minor": 2
}
