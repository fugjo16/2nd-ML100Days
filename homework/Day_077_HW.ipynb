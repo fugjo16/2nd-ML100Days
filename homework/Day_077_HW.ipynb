{
 "cells": [
  {
   "cell_type": "markdown",
   "metadata": {},
   "source": [
    "## Work\n",
    "1. 請將 Epoch 加到 500 個，並觀察 learning curve 的走勢\n",
    "2. 請將 Optimizer 換成 SGD，並觀察 learning curve 的走勢"
   ]
  },
  {
   "cell_type": "code",
   "execution_count": 1,
   "metadata": {},
   "outputs": [
    {
     "name": "stderr",
     "output_type": "stream",
     "text": [
      "Using TensorFlow backend.\n"
     ]
    }
   ],
   "source": [
    "import os\n",
    "import keras\n",
    "\n",
    "# 本作業可以不需使用 GPU, 將 GPU 設定為 \"無\" (若有 GPU 且想開啟，可設為 \"0\")\n",
    "os.environ[\"CUDA_VISIBLE_DEVICES\"] = \"\""
   ]
  },
  {
   "cell_type": "code",
   "execution_count": 2,
   "metadata": {
    "collapsed": true
   },
   "outputs": [],
   "source": [
    "# 從 Keras 的內建功能中，取得 train 與 test 資料集\n",
    "train, test = keras.datasets.cifar10.load_data()"
   ]
  },
  {
   "cell_type": "code",
   "execution_count": 3,
   "metadata": {
    "collapsed": true
   },
   "outputs": [],
   "source": [
    "# 將 X 與 Y 獨立放進變數\n",
    "x_train, y_train = train\n",
    "x_test, y_test = test\n",
    "# 資料前處理 - 標準化\n",
    "x_train = x_train / 255.\n",
    "x_test = x_test / 255.\n",
    "\n",
    "# 將資料從圖形 (RGB) 轉為向量 (Single Vector)\n",
    "x_train = x_train.reshape((len(x_train), -1))\n",
    "x_test = x_test.reshape((len(x_test), -1))\n",
    "\n",
    "# 將目標轉為 one-hot encoding\n",
    "y_train = keras.utils.to_categorical(y_train, num_classes=10)\n",
    "y_test = keras.utils.to_categorical(y_test, num_classes=10)"
   ]
  },
  {
   "cell_type": "code",
   "execution_count": 4,
   "metadata": {},
   "outputs": [
    {
     "name": "stderr",
     "output_type": "stream",
     "text": [
      "C:\\ProgramData\\Anaconda3\\lib\\site-packages\\ipykernel_launcher.py:7: UserWarning: Update your `Model` call to the Keras 2 API: `Model(inputs=[<tf.Tenso..., outputs=[<tf.Tenso...)`\n",
      "  import sys\n"
     ]
    }
   ],
   "source": [
    "def build_mlp():\n",
    "    input_layer = keras.layers.Input([x_train.shape[-1]])\n",
    "    x = keras.layers.Dense(units=512, activation='relu')(input_layer)\n",
    "    x = keras.layers.Dense(units=256, activation='relu')(x)\n",
    "    x = keras.layers.Dense(units=128, activation='relu')(x)\n",
    "    out = keras.layers.Dense(units=10, activation='softmax')(x)\n",
    "    model = keras.models.Model(input=[input_layer], output=[out])\n",
    "    return model\n",
    "model = build_mlp()"
   ]
  },
  {
   "cell_type": "code",
   "execution_count": 5,
   "metadata": {},
   "outputs": [
    {
     "name": "stdout",
     "output_type": "stream",
     "text": [
      "Model: \"model_1\"\n",
      "_________________________________________________________________\n",
      "Layer (type)                 Output Shape              Param #   \n",
      "=================================================================\n",
      "input_1 (InputLayer)         (None, 3072)              0         \n",
      "_________________________________________________________________\n",
      "dense_1 (Dense)              (None, 512)               1573376   \n",
      "_________________________________________________________________\n",
      "dense_2 (Dense)              (None, 256)               131328    \n",
      "_________________________________________________________________\n",
      "dense_3 (Dense)              (None, 128)               32896     \n",
      "_________________________________________________________________\n",
      "dense_4 (Dense)              (None, 10)                1290      \n",
      "=================================================================\n",
      "Total params: 1,738,890\n",
      "Trainable params: 1,738,890\n",
      "Non-trainable params: 0\n",
      "_________________________________________________________________\n"
     ]
    }
   ],
   "source": [
    "\"\"\"\n",
    "Compile 模型\n",
    "\"\"\"\n",
    "model.summary()\n",
    "optimizer = keras.optimizers.Adam(learning_rate=0.001)\n",
    "model.compile(optimizer=optimizer, loss='categorical_crossentropy', metrics=['accuracy'])"
   ]
  },
  {
   "cell_type": "code",
   "execution_count": 9,
   "metadata": {
    "scrolled": true
   },
   "outputs": [
    {
     "name": "stdout",
     "output_type": "stream",
     "text": [
      "Train on 50000 samples, validate on 10000 samples\n",
      "Epoch 1/100\n",
      "50000/50000 [==============================] - 3s 67us/step - loss: 1.3263 - accuracy: 0.5264 - val_loss: 1.4155 - val_accuracy: 0.5020\n",
      "Epoch 2/100\n",
      "50000/50000 [==============================] - 3s 67us/step - loss: 1.3021 - accuracy: 0.5378 - val_loss: 1.4011 - val_accuracy: 0.5021\n",
      "Epoch 3/100\n",
      "50000/50000 [==============================] - 3s 66us/step - loss: 1.2849 - accuracy: 0.5429 - val_loss: 1.4194 - val_accuracy: 0.4966\n",
      "Epoch 4/100\n",
      "50000/50000 [==============================] - 3s 69us/step - loss: 1.2581 - accuracy: 0.5511 - val_loss: 1.4011 - val_accuracy: 0.5027\n",
      "Epoch 5/100\n",
      "50000/50000 [==============================] - 4s 75us/step - loss: 1.2398 - accuracy: 0.5593 - val_loss: 1.3994 - val_accuracy: 0.5039\n",
      "Epoch 6/100\n",
      "50000/50000 [==============================] - 4s 76us/step - loss: 1.2108 - accuracy: 0.5689 - val_loss: 1.3716 - val_accuracy: 0.5223\n",
      "Epoch 7/100\n",
      "50000/50000 [==============================] - 4s 72us/step - loss: 1.1868 - accuracy: 0.5761 - val_loss: 1.3669 - val_accuracy: 0.5227\n",
      "Epoch 8/100\n",
      "50000/50000 [==============================] - 4s 76us/step - loss: 1.1752 - accuracy: 0.5822 - val_loss: 1.3588 - val_accuracy: 0.5256\n",
      "Epoch 9/100\n",
      "50000/50000 [==============================] - 4s 73us/step - loss: 1.1481 - accuracy: 0.5903 - val_loss: 1.3758 - val_accuracy: 0.5144\n",
      "Epoch 10/100\n",
      "50000/50000 [==============================] - 3s 66us/step - loss: 1.1321 - accuracy: 0.5982 - val_loss: 1.3892 - val_accuracy: 0.5154\n",
      "Epoch 11/100\n",
      "50000/50000 [==============================] - 3s 68us/step - loss: 1.1094 - accuracy: 0.6058 - val_loss: 1.3797 - val_accuracy: 0.5244\n",
      "Epoch 12/100\n",
      "50000/50000 [==============================] - 3s 66us/step - loss: 1.0899 - accuracy: 0.6118 - val_loss: 1.3696 - val_accuracy: 0.5246\n",
      "Epoch 13/100\n",
      "50000/50000 [==============================] - 3s 68us/step - loss: 1.0726 - accuracy: 0.6191 - val_loss: 1.4121 - val_accuracy: 0.5149\n",
      "Epoch 14/100\n",
      "50000/50000 [==============================] - 3s 65us/step - loss: 1.0561 - accuracy: 0.6232 - val_loss: 1.3582 - val_accuracy: 0.5349\n",
      "Epoch 15/100\n",
      "50000/50000 [==============================] - 3s 66us/step - loss: 1.0346 - accuracy: 0.6317 - val_loss: 1.3991 - val_accuracy: 0.5305\n",
      "Epoch 16/100\n",
      "50000/50000 [==============================] - 3s 68us/step - loss: 1.0331 - accuracy: 0.6306 - val_loss: 1.3700 - val_accuracy: 0.5317\n",
      "Epoch 17/100\n",
      "50000/50000 [==============================] - 3s 67us/step - loss: 1.0054 - accuracy: 0.6419 - val_loss: 1.4035 - val_accuracy: 0.5229\n",
      "Epoch 18/100\n",
      "50000/50000 [==============================] - 3s 67us/step - loss: 0.9785 - accuracy: 0.6509 - val_loss: 1.4130 - val_accuracy: 0.5233\n",
      "Epoch 19/100\n",
      "50000/50000 [==============================] - 3s 66us/step - loss: 0.9632 - accuracy: 0.6561 - val_loss: 1.3989 - val_accuracy: 0.5300\n",
      "Epoch 20/100\n",
      "50000/50000 [==============================] - 3s 65us/step - loss: 0.9513 - accuracy: 0.6603 - val_loss: 1.4217 - val_accuracy: 0.5257\n",
      "Epoch 21/100\n",
      "50000/50000 [==============================] - 3s 65us/step - loss: 0.9357 - accuracy: 0.6679 - val_loss: 1.4779 - val_accuracy: 0.5142\n",
      "Epoch 22/100\n",
      "50000/50000 [==============================] - 3s 69us/step - loss: 0.9137 - accuracy: 0.6735 - val_loss: 1.4848 - val_accuracy: 0.5099\n",
      "Epoch 23/100\n",
      "50000/50000 [==============================] - 4s 77us/step - loss: 0.8986 - accuracy: 0.6803 - val_loss: 1.4333 - val_accuracy: 0.5267\n",
      "Epoch 24/100\n",
      "50000/50000 [==============================] - 3s 70us/step - loss: 0.8815 - accuracy: 0.6870 - val_loss: 1.4676 - val_accuracy: 0.5241\n",
      "Epoch 25/100\n",
      "50000/50000 [==============================] - 3s 65us/step - loss: 0.8598 - accuracy: 0.6949 - val_loss: 1.4876 - val_accuracy: 0.5269\n",
      "Epoch 26/100\n",
      "50000/50000 [==============================] - 3s 69us/step - loss: 0.8508 - accuracy: 0.6981 - val_loss: 1.5249 - val_accuracy: 0.5239\n",
      "Epoch 27/100\n",
      "50000/50000 [==============================] - 3s 66us/step - loss: 0.8221 - accuracy: 0.7077 - val_loss: 1.5223 - val_accuracy: 0.5181\n",
      "Epoch 28/100\n",
      "50000/50000 [==============================] - 3s 67us/step - loss: 0.8160 - accuracy: 0.7111 - val_loss: 1.5563 - val_accuracy: 0.5146\n",
      "Epoch 29/100\n",
      "50000/50000 [==============================] - 3s 67us/step - loss: 0.7969 - accuracy: 0.7163 - val_loss: 1.5857 - val_accuracy: 0.5158\n",
      "Epoch 30/100\n",
      "50000/50000 [==============================] - 3s 68us/step - loss: 0.7868 - accuracy: 0.7220 - val_loss: 1.5734 - val_accuracy: 0.5216\n",
      "Epoch 31/100\n",
      "50000/50000 [==============================] - 3s 67us/step - loss: 0.7774 - accuracy: 0.7227 - val_loss: 1.6177 - val_accuracy: 0.5161\n",
      "Epoch 32/100\n",
      "50000/50000 [==============================] - 3s 67us/step - loss: 0.7601 - accuracy: 0.7304 - val_loss: 1.6078 - val_accuracy: 0.5191\n",
      "Epoch 33/100\n",
      "50000/50000 [==============================] - 3s 65us/step - loss: 0.7342 - accuracy: 0.7378 - val_loss: 1.6170 - val_accuracy: 0.5206\n",
      "Epoch 34/100\n",
      "50000/50000 [==============================] - 3s 69us/step - loss: 0.7132 - accuracy: 0.7463 - val_loss: 1.6696 - val_accuracy: 0.5111\n",
      "Epoch 35/100\n",
      "50000/50000 [==============================] - 3s 68us/step - loss: 0.7150 - accuracy: 0.7456 - val_loss: 1.6873 - val_accuracy: 0.5228\n",
      "Epoch 36/100\n",
      "50000/50000 [==============================] - 4s 77us/step - loss: 0.7004 - accuracy: 0.7490 - val_loss: 1.7104 - val_accuracy: 0.5183\n",
      "Epoch 37/100\n",
      "50000/50000 [==============================] - 4s 77us/step - loss: 0.6887 - accuracy: 0.7556 - val_loss: 1.7917 - val_accuracy: 0.5118\n",
      "Epoch 38/100\n",
      "50000/50000 [==============================] - 4s 74us/step - loss: 0.6824 - accuracy: 0.7565 - val_loss: 1.7817 - val_accuracy: 0.5079\n",
      "Epoch 39/100\n",
      "50000/50000 [==============================] - 4s 84us/step - loss: 0.6578 - accuracy: 0.7667 - val_loss: 1.8111 - val_accuracy: 0.5133\n",
      "Epoch 40/100\n",
      "50000/50000 [==============================] - 4s 85us/step - loss: 0.6435 - accuracy: 0.7718 - val_loss: 1.8122 - val_accuracy: 0.5125\n",
      "Epoch 41/100\n",
      "50000/50000 [==============================] - 3s 70us/step - loss: 0.6338 - accuracy: 0.7744 - val_loss: 1.8336 - val_accuracy: 0.5178\n",
      "Epoch 42/100\n",
      "50000/50000 [==============================] - 4s 74us/step - loss: 0.6258 - accuracy: 0.7767 - val_loss: 1.8267 - val_accuracy: 0.5164\n",
      "Epoch 43/100\n",
      "50000/50000 [==============================] - 4s 73us/step - loss: 0.6064 - accuracy: 0.7842 - val_loss: 1.8995 - val_accuracy: 0.5116\n",
      "Epoch 44/100\n",
      "50000/50000 [==============================] - 4s 72us/step - loss: 0.6279 - accuracy: 0.7745 - val_loss: 1.8979 - val_accuracy: 0.5109\n",
      "Epoch 45/100\n",
      "50000/50000 [==============================] - 3s 68us/step - loss: 0.5962 - accuracy: 0.7874 - val_loss: 1.9360 - val_accuracy: 0.5183\n",
      "Epoch 46/100\n",
      "50000/50000 [==============================] - 3s 69us/step - loss: 0.5746 - accuracy: 0.7959 - val_loss: 2.0204 - val_accuracy: 0.4977\n",
      "Epoch 47/100\n",
      "50000/50000 [==============================] - 3s 69us/step - loss: 0.5721 - accuracy: 0.7955 - val_loss: 2.0488 - val_accuracy: 0.5033\n",
      "Epoch 48/100\n",
      "50000/50000 [==============================] - 4s 74us/step - loss: 0.5485 - accuracy: 0.8042 - val_loss: 2.0602 - val_accuracy: 0.5071\n",
      "Epoch 49/100\n",
      "50000/50000 [==============================] - 4s 70us/step - loss: 0.5529 - accuracy: 0.8034 - val_loss: 2.0190 - val_accuracy: 0.5126\n",
      "Epoch 50/100\n",
      "50000/50000 [==============================] - 3s 67us/step - loss: 0.5356 - accuracy: 0.8080 - val_loss: 2.0811 - val_accuracy: 0.5080\n",
      "Epoch 51/100\n",
      "50000/50000 [==============================] - 4s 72us/step - loss: 0.5323 - accuracy: 0.8091 - val_loss: 2.1194 - val_accuracy: 0.5085\n",
      "Epoch 52/100\n",
      "50000/50000 [==============================] - 4s 74us/step - loss: 0.5385 - accuracy: 0.8085 - val_loss: 2.1885 - val_accuracy: 0.5068\n",
      "Epoch 53/100\n",
      "50000/50000 [==============================] - 4s 82us/step - loss: 0.5124 - accuracy: 0.8164 - val_loss: 2.1125 - val_accuracy: 0.5135\n",
      "Epoch 54/100\n",
      "50000/50000 [==============================] - 4s 70us/step - loss: 0.4934 - accuracy: 0.8246 - val_loss: 2.2309 - val_accuracy: 0.5087\n",
      "Epoch 55/100\n",
      "50000/50000 [==============================] - 3s 67us/step - loss: 0.4889 - accuracy: 0.8256 - val_loss: 2.1673 - val_accuracy: 0.5089\n"
     ]
    },
    {
     "name": "stdout",
     "output_type": "stream",
     "text": [
      "Epoch 56/100\n",
      "50000/50000 [==============================] - 3s 66us/step - loss: 0.4783 - accuracy: 0.8300 - val_loss: 2.2669 - val_accuracy: 0.5039\n",
      "Epoch 57/100\n",
      "50000/50000 [==============================] - 3s 66us/step - loss: 0.4694 - accuracy: 0.8335 - val_loss: 2.3075 - val_accuracy: 0.5066\n",
      "Epoch 58/100\n",
      "50000/50000 [==============================] - 3s 67us/step - loss: 0.4664 - accuracy: 0.8313 - val_loss: 2.4001 - val_accuracy: 0.4948\n",
      "Epoch 59/100\n",
      "50000/50000 [==============================] - 3s 66us/step - loss: 0.4486 - accuracy: 0.8401 - val_loss: 2.3470 - val_accuracy: 0.5103\n",
      "Epoch 60/100\n",
      "50000/50000 [==============================] - 3s 69us/step - loss: 0.4412 - accuracy: 0.8428 - val_loss: 2.4692 - val_accuracy: 0.4983\n",
      "Epoch 61/100\n",
      "50000/50000 [==============================] - 3s 70us/step - loss: 0.4440 - accuracy: 0.8400 - val_loss: 2.3958 - val_accuracy: 0.5066\n",
      "Epoch 62/100\n",
      "50000/50000 [==============================] - 3s 69us/step - loss: 0.4433 - accuracy: 0.8404 - val_loss: 2.5684 - val_accuracy: 0.4881\n",
      "Epoch 63/100\n",
      "50000/50000 [==============================] - 3s 66us/step - loss: 0.4350 - accuracy: 0.8440 - val_loss: 2.5170 - val_accuracy: 0.5029\n",
      "Epoch 64/100\n",
      "50000/50000 [==============================] - 3s 65us/step - loss: 0.4598 - accuracy: 0.8332 - val_loss: 2.5076 - val_accuracy: 0.4979\n",
      "Epoch 65/100\n",
      "50000/50000 [==============================] - 3s 65us/step - loss: 0.4231 - accuracy: 0.8481 - val_loss: 2.5596 - val_accuracy: 0.5047\n",
      "Epoch 66/100\n",
      "50000/50000 [==============================] - 3s 65us/step - loss: 0.4153 - accuracy: 0.8518 - val_loss: 2.4847 - val_accuracy: 0.5151\n",
      "Epoch 67/100\n",
      "50000/50000 [==============================] - 3s 68us/step - loss: 0.3852 - accuracy: 0.8623 - val_loss: 2.5995 - val_accuracy: 0.5066\n",
      "Epoch 68/100\n",
      "50000/50000 [==============================] - 4s 70us/step - loss: 0.3913 - accuracy: 0.8612 - val_loss: 2.6117 - val_accuracy: 0.5064\n",
      "Epoch 69/100\n",
      "50000/50000 [==============================] - 4s 70us/step - loss: 0.3762 - accuracy: 0.8660 - val_loss: 2.6438 - val_accuracy: 0.4951\n",
      "Epoch 70/100\n",
      "50000/50000 [==============================] - 3s 66us/step - loss: 0.3941 - accuracy: 0.8588 - val_loss: 2.7143 - val_accuracy: 0.5018\n",
      "Epoch 71/100\n",
      "50000/50000 [==============================] - 3s 66us/step - loss: 0.3701 - accuracy: 0.8668 - val_loss: 2.7319 - val_accuracy: 0.4999\n",
      "Epoch 72/100\n",
      "50000/50000 [==============================] - 3s 66us/step - loss: 0.3746 - accuracy: 0.8650 - val_loss: 2.7685 - val_accuracy: 0.5066\n",
      "Epoch 73/100\n",
      "50000/50000 [==============================] - 3s 66us/step - loss: 0.3599 - accuracy: 0.8717 - val_loss: 2.8503 - val_accuracy: 0.5007\n",
      "Epoch 74/100\n",
      "50000/50000 [==============================] - 3s 67us/step - loss: 0.3585 - accuracy: 0.8710 - val_loss: 2.9106 - val_accuracy: 0.4969\n",
      "Epoch 75/100\n",
      "50000/50000 [==============================] - 4s 72us/step - loss: 0.3820 - accuracy: 0.8623 - val_loss: 2.7990 - val_accuracy: 0.5026\n",
      "Epoch 76/100\n",
      "50000/50000 [==============================] - 3s 70us/step - loss: 0.3511 - accuracy: 0.8734 - val_loss: 2.8288 - val_accuracy: 0.5058\n",
      "Epoch 77/100\n",
      "50000/50000 [==============================] - 3s 68us/step - loss: 0.3388 - accuracy: 0.8783 - val_loss: 2.9517 - val_accuracy: 0.5010\n",
      "Epoch 78/100\n",
      "50000/50000 [==============================] - 3s 65us/step - loss: 0.3410 - accuracy: 0.8782 - val_loss: 2.9089 - val_accuracy: 0.5039\n",
      "Epoch 79/100\n",
      "50000/50000 [==============================] - 3s 65us/step - loss: 0.3359 - accuracy: 0.8794 - val_loss: 2.9498 - val_accuracy: 0.4990\n",
      "Epoch 80/100\n",
      "50000/50000 [==============================] - 3s 65us/step - loss: 0.3192 - accuracy: 0.8857 - val_loss: 2.9826 - val_accuracy: 0.5032\n",
      "Epoch 81/100\n",
      "50000/50000 [==============================] - 3s 65us/step - loss: 0.3199 - accuracy: 0.8847 - val_loss: 3.0506 - val_accuracy: 0.5011\n",
      "Epoch 82/100\n",
      "50000/50000 [==============================] - 4s 71us/step - loss: 0.3344 - accuracy: 0.8795 - val_loss: 3.1149 - val_accuracy: 0.5012\n",
      "Epoch 83/100\n",
      "50000/50000 [==============================] - 4s 70us/step - loss: 0.3229 - accuracy: 0.8834 - val_loss: 3.0420 - val_accuracy: 0.5099\n",
      "Epoch 84/100\n",
      "50000/50000 [==============================] - 4s 73us/step - loss: 0.3278 - accuracy: 0.8818 - val_loss: 3.1590 - val_accuracy: 0.5043\n",
      "Epoch 85/100\n",
      "50000/50000 [==============================] - 4s 71us/step - loss: 0.3240 - accuracy: 0.8851 - val_loss: 3.1764 - val_accuracy: 0.4987\n",
      "Epoch 86/100\n",
      "50000/50000 [==============================] - 3s 65us/step - loss: 0.2975 - accuracy: 0.8936 - val_loss: 3.2302 - val_accuracy: 0.4998\n",
      "Epoch 87/100\n",
      "50000/50000 [==============================] - 3s 66us/step - loss: 0.3114 - accuracy: 0.8869 - val_loss: 3.2698 - val_accuracy: 0.4960\n",
      "Epoch 88/100\n",
      "50000/50000 [==============================] - 4s 74us/step - loss: 0.2919 - accuracy: 0.8958 - val_loss: 3.2562 - val_accuracy: 0.5006\n",
      "Epoch 89/100\n",
      "50000/50000 [==============================] - 4s 78us/step - loss: 0.2926 - accuracy: 0.8929 - val_loss: 3.2127 - val_accuracy: 0.5028\n",
      "Epoch 90/100\n",
      "50000/50000 [==============================] - 4s 72us/step - loss: 0.2903 - accuracy: 0.8957 - val_loss: 3.3265 - val_accuracy: 0.5036\n",
      "Epoch 91/100\n",
      "50000/50000 [==============================] - 4s 70us/step - loss: 0.3230 - accuracy: 0.8823 - val_loss: 3.3264 - val_accuracy: 0.5025\n",
      "Epoch 92/100\n",
      "50000/50000 [==============================] - 3s 69us/step - loss: 0.2932 - accuracy: 0.8940 - val_loss: 3.3552 - val_accuracy: 0.4964\n",
      "Epoch 93/100\n",
      "50000/50000 [==============================] - 3s 66us/step - loss: 0.2737 - accuracy: 0.9018 - val_loss: 3.4167 - val_accuracy: 0.4988\n",
      "Epoch 94/100\n",
      "50000/50000 [==============================] - 3s 69us/step - loss: 0.2793 - accuracy: 0.8997 - val_loss: 3.3661 - val_accuracy: 0.4952\n",
      "Epoch 95/100\n",
      "50000/50000 [==============================] - 3s 67us/step - loss: 0.2713 - accuracy: 0.9014 - val_loss: 3.4700 - val_accuracy: 0.5011\n",
      "Epoch 96/100\n",
      "50000/50000 [==============================] - 3s 69us/step - loss: 0.2708 - accuracy: 0.9029 - val_loss: 3.5314 - val_accuracy: 0.4876\n",
      "Epoch 97/100\n",
      "50000/50000 [==============================] - 3s 69us/step - loss: 0.2844 - accuracy: 0.8965 - val_loss: 3.5531 - val_accuracy: 0.4996\n",
      "Epoch 98/100\n",
      "50000/50000 [==============================] - 3s 69us/step - loss: 0.2648 - accuracy: 0.9044 - val_loss: 3.4706 - val_accuracy: 0.5037\n",
      "Epoch 99/100\n",
      "50000/50000 [==============================] - 4s 72us/step - loss: 0.2929 - accuracy: 0.8941 - val_loss: 3.6059 - val_accuracy: 0.4975\n",
      "Epoch 100/100\n",
      "50000/50000 [==============================] - 3s 70us/step - loss: 0.2662 - accuracy: 0.9057 - val_loss: 3.5937 - val_accuracy: 0.4924\n"
     ]
    },
    {
     "data": {
      "text/plain": [
       "<keras.callbacks.callbacks.History at 0x13c687ad5c0>"
      ]
     },
     "execution_count": 9,
     "metadata": {},
     "output_type": "execute_result"
    }
   ],
   "source": [
    "\"\"\"\n",
    "設定要訓練的 Epoch 數\n",
    "\"\"\"\n",
    "model.fit(x_train, y_train, \n",
    "          epochs=100, \n",
    "          batch_size=256, \n",
    "          validation_data=(x_test, y_test), \n",
    "          shuffle=True)"
   ]
  },
  {
   "cell_type": "code",
   "execution_count": 8,
   "metadata": {},
   "outputs": [
    {
     "data": {
      "image/png": "[encoded data removed]",
      "text/plain": [
       "<Figure size 432x288 with 1 Axes>"
      ]
     },
     "metadata": {},
     "output_type": "display_data"
    },
    {
     "data": {
      "image/png": "[encoded data removed]",
      "text/plain": [
       "<Figure size 432x288 with 1 Axes>"
      ]
     },
     "metadata": {},
     "output_type": "display_data"
    }
   ],
   "source": [
    "import matplotlib.pyplot as plt\n",
    "# 以視覺畫方式檢視訓練過程\n",
    "\n",
    "train_loss = model.history.history[\"loss\"]\n",
    "valid_loss = model.history.history[\"val_loss\"]\n",
    "\n",
    "train_acc = model.history.history[\"accuracy\"]\n",
    "valid_acc = model.history.history[\"val_accuracy\"]\n",
    "\n",
    "plt.plot(range(len(train_loss)), train_loss, label=\"train loss\")\n",
    "plt.plot(range(len(valid_loss)), valid_loss, label=\"valid loss\")\n",
    "plt.legend()\n",
    "plt.title(\"Loss\")\n",
    "plt.show()\n",
    "\n",
    "plt.plot(range(len(train_acc)), train_acc, label=\"train accuracy\")\n",
    "plt.plot(range(len(valid_acc)), valid_acc, label=\"valid accuracy\")\n",
    "plt.legend()\n",
    "plt.title(\"Accuracy\")\n",
    "plt.show()"
   ]
  },
  {
   "cell_type": "code",
   "execution_count": null,
   "metadata": {
    "collapsed": true
   },
   "outputs": [],
   "source": []
  }
 ],
 "metadata": {
  "kernelspec": {
   "display_name": "Python 3",
   "language": "python",
   "name": "python3"
  },
  "language_info": {
   "codemirror_mode": {
    "name": "ipython",
    "version": 3
   },
   "file_extension": ".py",
   "mimetype": "text/x-python",
   "name": "python",
   "nbconvert_exporter": "python",
   "pygments_lexer": "ipython3",
   "version": "3.6.8"
  }
 },
 "nbformat": 4,
 "nbformat_minor": 2
}
