{
 "cells": [
  {
   "cell_type": "markdown",
   "metadata": {},
   "source": [
    "## Work\n",
    "1. 請嘗試將 preproc_x 替換成以每筆資料的 min/max 進行標準化至 -1 ~ 1 間，再進行訓練\n",
    "2. 請嘗試將 mlp 疊更深 (e.g 5~10 層)，進行訓練後觀察 learning curve 的走勢\n",
    "3. (optional) 請改用 GPU 進行訓練 (如果你有 GPU 的話)，比較使用 CPU 與 GPU 的訓練速度"
   ]
  },
  {
   "cell_type": "code",
   "execution_count": 1,
   "metadata": {
    "collapsed": true
   },
   "outputs": [],
   "source": [
    "## \n",
    "\"\"\"\n",
    "Your code here (optional)\n",
    "確認硬體資源\n",
    "\"\"\"\n"
   ]
  },
  {
   "cell_type": "code",
   "execution_count": 61,
   "metadata": {},
   "outputs": [],
   "source": [
    "import os\n",
    "import keras\n",
    "\n",
    "# 請嘗試設定 GPU：os.environ\n",
    "os.environ[\"CUDA_VISIBLE_DEVICES\"] = '0'"
   ]
  },
  {
   "cell_type": "code",
   "execution_count": 62,
   "metadata": {
    "collapsed": true
   },
   "outputs": [],
   "source": [
    "train, test = keras.datasets.cifar10.load_data()"
   ]
  },
  {
   "cell_type": "code",
   "execution_count": 63,
   "metadata": {
    "collapsed": true
   },
   "outputs": [],
   "source": [
    "## 資料前處理\n",
    "\"\"\"\n",
    "Your code here\n",
    "\"\"\"\n",
    "def preproc_x(x, flatten=True):\n",
    "    if flatten:\n",
    "        x = x.reshape((len(x), -1)).astype('float32')\n",
    "    \n",
    "    for i in range(len(x)):\n",
    "        x[i] = (x[i] - min(x[i])) / (max(x[i]) - min(x[i])) * 2 - 1\n",
    "        \n",
    "#     print(x.min(axis=1).shape)\n",
    "#     _min = x.min(axis=1)\n",
    "#     _max = x.max(axis=1)\n",
    "#     x = ((x - _min) / (_max - _min) * 2) - 1\n",
    "    return x\n",
    "\n",
    "def preproc_y(y, num_class=10):\n",
    "    if y.shape[-1] == 1:\n",
    "        y = keras.utils.to_categorical(y, num_class)\n",
    "    return y"
   ]
  },
  {
   "cell_type": "code",
   "execution_count": 64,
   "metadata": {},
   "outputs": [],
   "source": [
    "x_train, y_train = train\n",
    "x_test, y_test = test\n",
    "\n",
    "# Preproc the inputs\n",
    "x_train = preproc_x(x_train)\n",
    "x_test = preproc_x(x_test)\n",
    "\n",
    "# Preprc the outputs\n",
    "y_train = preproc_y(y_train)\n",
    "y_test = preproc_y(y_test)"
   ]
  },
  {
   "cell_type": "code",
   "execution_count": 66,
   "metadata": {},
   "outputs": [
    {
     "name": "stdout",
     "output_type": "stream",
     "text": [
      "Model: \"model_3\"\n",
      "_________________________________________________________________\n",
      "Layer (type)                 Output Shape              Param #   \n",
      "=================================================================\n",
      "input_3 (InputLayer)         (None, 3072)              0         \n",
      "_________________________________________________________________\n",
      "dense_13 (Dense)             (None, 512)               1573376   \n",
      "_________________________________________________________________\n",
      "dense_14 (Dense)             (None, 256)               131328    \n",
      "_________________________________________________________________\n",
      "dense_15 (Dense)             (None, 128)               32896     \n",
      "_________________________________________________________________\n",
      "dense_16 (Dense)             (None, 64)                8256      \n",
      "_________________________________________________________________\n",
      "dense_17 (Dense)             (None, 32)                2080      \n",
      "_________________________________________________________________\n",
      "dense_18 (Dense)             (None, 10)                330       \n",
      "=================================================================\n",
      "Total params: 1,748,266\n",
      "Trainable params: 1,748,266\n",
      "Non-trainable params: 0\n",
      "_________________________________________________________________\n"
     ]
    },
    {
     "name": "stderr",
     "output_type": "stream",
     "text": [
      "C:\\ProgramData\\Anaconda3\\lib\\site-packages\\ipykernel_launcher.py:12: UserWarning: Update your `Model` call to the Keras 2 API: `Model(inputs=[<tf.Tenso..., outputs=[<tf.Tenso...)`\n",
      "  if sys.path[0] == '':\n"
     ]
    }
   ],
   "source": [
    "\"\"\"Code Here\n",
    "建立你的神經網路\n",
    "\"\"\"\n",
    "def build_mlp(input_shape, num_class=10):\n",
    "    input_layer = keras.models.Input(input_shape)\n",
    "    x = keras.layers.Dense(units=512, activation='relu')(input_layer)\n",
    "    x = keras.layers.Dense(units=256, activation='relu')(x)\n",
    "    x = keras.layers.Dense(units=128, activation='relu')(x)\n",
    "    x = keras.layers.Dense(units=64, activation='relu')(x)\n",
    "    x = keras.layers.Dense(units=32, activation='relu')(x)\n",
    "    out = keras.layers.Dense(units=num_class, activation='softmax')(x)\n",
    "    model = keras.models.Model(input=[input_layer], output=[out])\n",
    "    return model\n",
    "model = build_mlp(x_train.shape[1:])\n",
    "model.summary()"
   ]
  },
  {
   "cell_type": "code",
   "execution_count": 67,
   "metadata": {
    "collapsed": true
   },
   "outputs": [],
   "source": [
    "## 超參數設定\n",
    "LEARNING_RATE = 0.001\n",
    "EPOCHS = 100\n",
    "BATCH_SIZE = 256"
   ]
  },
  {
   "cell_type": "code",
   "execution_count": 68,
   "metadata": {
    "collapsed": true
   },
   "outputs": [],
   "source": [
    "optimizer = keras.optimizers.Adam(lr=LEARNING_RATE)\n",
    "model.compile(loss=\"categorical_crossentropy\", metrics=[\"accuracy\"], optimizer=optimizer)"
   ]
  },
  {
   "cell_type": "code",
   "execution_count": 69,
   "metadata": {},
   "outputs": [
    {
     "name": "stdout",
     "output_type": "stream",
     "text": [
      "Train on 50000 samples, validate on 10000 samples\n",
      "Epoch 1/100\n",
      "50000/50000 [==============================] - 3s 58us/step - loss: 1.7332 - accuracy: 0.3866 - val_loss: 1.5498 - val_accuracy: 0.4584\n",
      "Epoch 2/100\n",
      "50000/50000 [==============================] - 3s 53us/step - loss: 1.4926 - accuracy: 0.4714 - val_loss: 1.4574 - val_accuracy: 0.4881\n",
      "Epoch 3/100\n",
      "50000/50000 [==============================] - 3s 54us/step - loss: 1.3635 - accuracy: 0.5196 - val_loss: 1.4128 - val_accuracy: 0.4995\n",
      "Epoch 4/100\n",
      "50000/50000 [==============================] - 3s 54us/step - loss: 1.2658 - accuracy: 0.5515 - val_loss: 1.3701 - val_accuracy: 0.5233\n",
      "Epoch 5/100\n",
      "50000/50000 [==============================] - 3s 53us/step - loss: 1.1791 - accuracy: 0.5848 - val_loss: 1.3664 - val_accuracy: 0.5256\n",
      "Epoch 6/100\n",
      "50000/50000 [==============================] - 3s 52us/step - loss: 1.1069 - accuracy: 0.6108 - val_loss: 1.3699 - val_accuracy: 0.5230\n",
      "Epoch 7/100\n",
      "50000/50000 [==============================] - 3s 53us/step - loss: 1.0232 - accuracy: 0.6387 - val_loss: 1.3936 - val_accuracy: 0.5271\n",
      "Epoch 8/100\n",
      "50000/50000 [==============================] - 3s 52us/step - loss: 0.9626 - accuracy: 0.6635 - val_loss: 1.3857 - val_accuracy: 0.5351\n",
      "Epoch 9/100\n",
      "50000/50000 [==============================] - 3s 52us/step - loss: 0.8779 - accuracy: 0.6898 - val_loss: 1.4288 - val_accuracy: 0.5282\n",
      "Epoch 10/100\n",
      "50000/50000 [==============================] - 3s 52us/step - loss: 0.8139 - accuracy: 0.7149 - val_loss: 1.4520 - val_accuracy: 0.5386\n",
      "Epoch 11/100\n",
      "50000/50000 [==============================] - 3s 53us/step - loss: 0.7461 - accuracy: 0.7349 - val_loss: 1.4815 - val_accuracy: 0.5405\n",
      "Epoch 12/100\n",
      "50000/50000 [==============================] - 3s 53us/step - loss: 0.6797 - accuracy: 0.7608 - val_loss: 1.5414 - val_accuracy: 0.5302\n",
      "Epoch 13/100\n",
      "50000/50000 [==============================] - 3s 54us/step - loss: 0.6270 - accuracy: 0.7766 - val_loss: 1.6602 - val_accuracy: 0.5354\n",
      "Epoch 14/100\n",
      "50000/50000 [==============================] - 3s 54us/step - loss: 0.5747 - accuracy: 0.7988 - val_loss: 1.6835 - val_accuracy: 0.5466\n",
      "Epoch 15/100\n",
      "50000/50000 [==============================] - 3s 52us/step - loss: 0.5201 - accuracy: 0.8152 - val_loss: 1.7522 - val_accuracy: 0.5318\n",
      "Epoch 16/100\n",
      "50000/50000 [==============================] - 3s 53us/step - loss: 0.4578 - accuracy: 0.8387 - val_loss: 1.9153 - val_accuracy: 0.5340\n",
      "Epoch 17/100\n",
      "50000/50000 [==============================] - 3s 52us/step - loss: 0.4204 - accuracy: 0.8517 - val_loss: 1.9515 - val_accuracy: 0.5281\n",
      "Epoch 18/100\n",
      "50000/50000 [==============================] - 3s 52us/step - loss: 0.3961 - accuracy: 0.8600 - val_loss: 2.1181 - val_accuracy: 0.5356\n",
      "Epoch 19/100\n",
      "50000/50000 [==============================] - 3s 52us/step - loss: 0.3518 - accuracy: 0.8772 - val_loss: 2.1626 - val_accuracy: 0.5307\n",
      "Epoch 20/100\n",
      "50000/50000 [==============================] - 3s 53us/step - loss: 0.3219 - accuracy: 0.8879 - val_loss: 2.3536 - val_accuracy: 0.5289\n",
      "Epoch 21/100\n",
      "50000/50000 [==============================] - 3s 54us/step - loss: 0.3040 - accuracy: 0.8944 - val_loss: 2.4710 - val_accuracy: 0.5353\n",
      "Epoch 22/100\n",
      "50000/50000 [==============================] - 3s 54us/step - loss: 0.2814 - accuracy: 0.9008 - val_loss: 2.5119 - val_accuracy: 0.5252\n",
      "Epoch 23/100\n",
      "50000/50000 [==============================] - 3s 55us/step - loss: 0.2642 - accuracy: 0.9078 - val_loss: 2.6264 - val_accuracy: 0.5317\n",
      "Epoch 24/100\n",
      "50000/50000 [==============================] - 3s 54us/step - loss: 0.2668 - accuracy: 0.9055 - val_loss: 2.6005 - val_accuracy: 0.5325\n",
      "Epoch 25/100\n",
      "50000/50000 [==============================] - 3s 52us/step - loss: 0.2256 - accuracy: 0.9205 - val_loss: 2.6754 - val_accuracy: 0.5249\n",
      "Epoch 26/100\n",
      "50000/50000 [==============================] - 3s 53us/step - loss: 0.2086 - accuracy: 0.9273 - val_loss: 2.7644 - val_accuracy: 0.5300\n",
      "Epoch 27/100\n",
      "50000/50000 [==============================] - 3s 52us/step - loss: 0.1865 - accuracy: 0.9363 - val_loss: 2.8712 - val_accuracy: 0.5303\n",
      "Epoch 28/100\n",
      "50000/50000 [==============================] - 3s 52us/step - loss: 0.2161 - accuracy: 0.9251 - val_loss: 2.8606 - val_accuracy: 0.5280\n",
      "Epoch 29/100\n",
      "50000/50000 [==============================] - 3s 53us/step - loss: 0.1896 - accuracy: 0.9345 - val_loss: 2.9459 - val_accuracy: 0.5270\n",
      "Epoch 30/100\n",
      "50000/50000 [==============================] - 3s 55us/step - loss: 0.1739 - accuracy: 0.9406 - val_loss: 3.0624 - val_accuracy: 0.5280\n",
      "Epoch 31/100\n",
      "50000/50000 [==============================] - 3s 56us/step - loss: 0.1723 - accuracy: 0.9410 - val_loss: 3.0857 - val_accuracy: 0.5282\n",
      "Epoch 32/100\n",
      "50000/50000 [==============================] - 3s 56us/step - loss: 0.1572 - accuracy: 0.9452 - val_loss: 3.1316 - val_accuracy: 0.5319\n",
      "Epoch 33/100\n",
      "50000/50000 [==============================] - 3s 55us/step - loss: 0.1674 - accuracy: 0.9420 - val_loss: 3.1320 - val_accuracy: 0.5319\n",
      "Epoch 34/100\n",
      "50000/50000 [==============================] - 3s 52us/step - loss: 0.1670 - accuracy: 0.9419 - val_loss: 3.3596 - val_accuracy: 0.5246\n",
      "Epoch 35/100\n",
      "50000/50000 [==============================] - 3s 53us/step - loss: 0.1463 - accuracy: 0.9497 - val_loss: 3.3145 - val_accuracy: 0.5319\n",
      "Epoch 36/100\n",
      "50000/50000 [==============================] - 3s 52us/step - loss: 0.1379 - accuracy: 0.9535 - val_loss: 3.3164 - val_accuracy: 0.5367\n",
      "Epoch 37/100\n",
      "50000/50000 [==============================] - 3s 52us/step - loss: 0.1410 - accuracy: 0.9525 - val_loss: 3.6604 - val_accuracy: 0.5322\n",
      "Epoch 38/100\n",
      "50000/50000 [==============================] - 3s 52us/step - loss: 0.1278 - accuracy: 0.9572 - val_loss: 3.5801 - val_accuracy: 0.5279\n",
      "Epoch 39/100\n",
      "50000/50000 [==============================] - 3s 54us/step - loss: 0.1417 - accuracy: 0.9516 - val_loss: 3.4957 - val_accuracy: 0.5292\n",
      "Epoch 40/100\n",
      "50000/50000 [==============================] - 3s 56us/step - loss: 0.1397 - accuracy: 0.9528 - val_loss: 3.4691 - val_accuracy: 0.5260\n",
      "Epoch 41/100\n",
      "50000/50000 [==============================] - 3s 56us/step - loss: 0.1221 - accuracy: 0.9581 - val_loss: 3.6064 - val_accuracy: 0.5336\n",
      "Epoch 42/100\n",
      "50000/50000 [==============================] - 3s 57us/step - loss: 0.1250 - accuracy: 0.9583 - val_loss: 3.7919 - val_accuracy: 0.5323\n",
      "Epoch 43/100\n",
      "50000/50000 [==============================] - 3s 57us/step - loss: 0.1260 - accuracy: 0.9575 - val_loss: 3.5039 - val_accuracy: 0.5273\n",
      "Epoch 44/100\n",
      "50000/50000 [==============================] - 3s 57us/step - loss: 0.1128 - accuracy: 0.9614 - val_loss: 3.7887 - val_accuracy: 0.5252\n",
      "Epoch 45/100\n",
      "50000/50000 [==============================] - 3s 57us/step - loss: 0.1101 - accuracy: 0.9634 - val_loss: 3.5177 - val_accuracy: 0.5324\n",
      "Epoch 46/100\n",
      "50000/50000 [==============================] - 3s 57us/step - loss: 0.1120 - accuracy: 0.9625 - val_loss: 3.5924 - val_accuracy: 0.5244\n",
      "Epoch 47/100\n",
      "50000/50000 [==============================] - 3s 57us/step - loss: 0.1148 - accuracy: 0.9616 - val_loss: 3.8050 - val_accuracy: 0.5292\n",
      "Epoch 48/100\n",
      "50000/50000 [==============================] - 3s 57us/step - loss: 0.1206 - accuracy: 0.9605 - val_loss: 3.7057 - val_accuracy: 0.5309\n",
      "Epoch 49/100\n",
      "50000/50000 [==============================] - 3s 57us/step - loss: 0.1106 - accuracy: 0.9630 - val_loss: 3.7444 - val_accuracy: 0.5351\n",
      "Epoch 50/100\n",
      "50000/50000 [==============================] - 3s 57us/step - loss: 0.0890 - accuracy: 0.9702 - val_loss: 3.8337 - val_accuracy: 0.5357\n",
      "Epoch 51/100\n",
      "50000/50000 [==============================] - 3s 58us/step - loss: 0.0889 - accuracy: 0.9708 - val_loss: 4.0215 - val_accuracy: 0.5321\n",
      "Epoch 52/100\n",
      "50000/50000 [==============================] - 3s 57us/step - loss: 0.1141 - accuracy: 0.9621 - val_loss: 3.9963 - val_accuracy: 0.5199\n",
      "Epoch 53/100\n",
      "50000/50000 [==============================] - 3s 57us/step - loss: 0.1189 - accuracy: 0.9604 - val_loss: 3.7747 - val_accuracy: 0.5316\n",
      "Epoch 54/100\n",
      "50000/50000 [==============================] - 3s 53us/step - loss: 0.0888 - accuracy: 0.9708 - val_loss: 3.9092 - val_accuracy: 0.5315\n",
      "Epoch 55/100\n",
      "50000/50000 [==============================] - 3s 53us/step - loss: 0.0960 - accuracy: 0.9685 - val_loss: 3.9954 - val_accuracy: 0.5268\n"
     ]
    },
    {
     "name": "stdout",
     "output_type": "stream",
     "text": [
      "Epoch 56/100\n",
      "50000/50000 [==============================] - 3s 52us/step - loss: 0.0753 - accuracy: 0.9746 - val_loss: 4.0281 - val_accuracy: 0.5336\n",
      "Epoch 57/100\n",
      "50000/50000 [==============================] - 3s 52us/step - loss: 0.1112 - accuracy: 0.9632 - val_loss: 3.7849 - val_accuracy: 0.5267\n",
      "Epoch 58/100\n",
      "50000/50000 [==============================] - 3s 52us/step - loss: 0.1003 - accuracy: 0.9677 - val_loss: 3.9037 - val_accuracy: 0.5261\n",
      "Epoch 59/100\n",
      "50000/50000 [==============================] - 3s 56us/step - loss: 0.0827 - accuracy: 0.9724 - val_loss: 4.0095 - val_accuracy: 0.5303\n",
      "Epoch 60/100\n",
      "50000/50000 [==============================] - 3s 57us/step - loss: 0.0765 - accuracy: 0.9741 - val_loss: 4.0532 - val_accuracy: 0.5306\n",
      "Epoch 61/100\n",
      "50000/50000 [==============================] - 3s 56us/step - loss: 0.0888 - accuracy: 0.9713 - val_loss: 4.0617 - val_accuracy: 0.5307\n",
      "Epoch 62/100\n",
      "50000/50000 [==============================] - 3s 57us/step - loss: 0.1187 - accuracy: 0.9623 - val_loss: 3.9073 - val_accuracy: 0.5249\n",
      "Epoch 63/100\n",
      "50000/50000 [==============================] - 3s 57us/step - loss: 0.0900 - accuracy: 0.9704 - val_loss: 3.8774 - val_accuracy: 0.5319\n",
      "Epoch 64/100\n",
      "50000/50000 [==============================] - 3s 58us/step - loss: 0.0691 - accuracy: 0.9773 - val_loss: 4.1173 - val_accuracy: 0.5231\n",
      "Epoch 65/100\n",
      "50000/50000 [==============================] - 3s 61us/step - loss: 0.0758 - accuracy: 0.9753 - val_loss: 4.1950 - val_accuracy: 0.5310\n",
      "Epoch 66/100\n",
      "50000/50000 [==============================] - 3s 55us/step - loss: 0.1036 - accuracy: 0.9671 - val_loss: 3.9425 - val_accuracy: 0.5242\n",
      "Epoch 67/100\n",
      "50000/50000 [==============================] - 3s 52us/step - loss: 0.0668 - accuracy: 0.9777 - val_loss: 4.1839 - val_accuracy: 0.5299\n",
      "Epoch 68/100\n",
      "50000/50000 [==============================] - 3s 53us/step - loss: 0.0682 - accuracy: 0.9783 - val_loss: 4.1415 - val_accuracy: 0.5328\n",
      "Epoch 69/100\n",
      "50000/50000 [==============================] - 3s 53us/step - loss: 0.0812 - accuracy: 0.9739 - val_loss: 4.4061 - val_accuracy: 0.5322\n",
      "Epoch 70/100\n",
      "50000/50000 [==============================] - 3s 51us/step - loss: 0.1061 - accuracy: 0.9663 - val_loss: 4.0218 - val_accuracy: 0.5275\n",
      "Epoch 71/100\n",
      "50000/50000 [==============================] - 3s 52us/step - loss: 0.0789 - accuracy: 0.9739 - val_loss: 4.2638 - val_accuracy: 0.5257\n",
      "Epoch 72/100\n",
      "50000/50000 [==============================] - 3s 55us/step - loss: 0.0657 - accuracy: 0.9787 - val_loss: 4.3270 - val_accuracy: 0.5287\n",
      "Epoch 73/100\n",
      "50000/50000 [==============================] - 3s 56us/step - loss: 0.0707 - accuracy: 0.9763 - val_loss: 4.4450 - val_accuracy: 0.5314\n",
      "Epoch 74/100\n",
      "50000/50000 [==============================] - 3s 56us/step - loss: 0.0705 - accuracy: 0.9770 - val_loss: 4.3352 - val_accuracy: 0.5315\n",
      "Epoch 75/100\n",
      "50000/50000 [==============================] - 3s 53us/step - loss: 0.0776 - accuracy: 0.9751 - val_loss: 4.3849 - val_accuracy: 0.5306\n",
      "Epoch 76/100\n",
      "50000/50000 [==============================] - 3s 51us/step - loss: 0.0914 - accuracy: 0.9709 - val_loss: 4.3052 - val_accuracy: 0.5256\n",
      "Epoch 77/100\n",
      "50000/50000 [==============================] - 3s 51us/step - loss: 0.0659 - accuracy: 0.9785 - val_loss: 4.1817 - val_accuracy: 0.5296\n",
      "Epoch 78/100\n",
      "50000/50000 [==============================] - 3s 52us/step - loss: 0.0576 - accuracy: 0.9814 - val_loss: 4.3761 - val_accuracy: 0.5302\n",
      "Epoch 79/100\n",
      "50000/50000 [==============================] - 3s 51us/step - loss: 0.0778 - accuracy: 0.9755 - val_loss: 4.3034 - val_accuracy: 0.5230\n",
      "Epoch 80/100\n",
      "50000/50000 [==============================] - 3s 51us/step - loss: 0.0800 - accuracy: 0.9739 - val_loss: 4.1540 - val_accuracy: 0.5326\n",
      "Epoch 81/100\n",
      "50000/50000 [==============================] - 3s 51us/step - loss: 0.0590 - accuracy: 0.9799 - val_loss: 4.3684 - val_accuracy: 0.5336\n",
      "Epoch 82/100\n",
      "50000/50000 [==============================] - 3s 52us/step - loss: 0.0543 - accuracy: 0.9823 - val_loss: 4.4577 - val_accuracy: 0.5326\n",
      "Epoch 83/100\n",
      "50000/50000 [==============================] - 3s 52us/step - loss: 0.0591 - accuracy: 0.9805 - val_loss: 4.5048 - val_accuracy: 0.5262\n",
      "Epoch 84/100\n",
      "50000/50000 [==============================] - 3s 51us/step - loss: 0.0934 - accuracy: 0.9710 - val_loss: 4.2968 - val_accuracy: 0.5182\n",
      "Epoch 85/100\n",
      "50000/50000 [==============================] - 3s 52us/step - loss: 0.0863 - accuracy: 0.9721 - val_loss: 4.1706 - val_accuracy: 0.5259\n",
      "Epoch 86/100\n",
      "50000/50000 [==============================] - 3s 55us/step - loss: 0.0436 - accuracy: 0.9858 - val_loss: 4.5002 - val_accuracy: 0.5337\n",
      "Epoch 87/100\n",
      "50000/50000 [==============================] - 3s 53us/step - loss: 0.0517 - accuracy: 0.9836 - val_loss: 4.3944 - val_accuracy: 0.5319\n",
      "Epoch 88/100\n",
      "50000/50000 [==============================] - 3s 52us/step - loss: 0.0851 - accuracy: 0.9733 - val_loss: 4.4687 - val_accuracy: 0.5326\n",
      "Epoch 89/100\n",
      "50000/50000 [==============================] - 3s 52us/step - loss: 0.0588 - accuracy: 0.9817 - val_loss: 4.4919 - val_accuracy: 0.5313\n",
      "Epoch 90/100\n",
      "50000/50000 [==============================] - 3s 53us/step - loss: 0.0653 - accuracy: 0.9793 - val_loss: 4.2566 - val_accuracy: 0.5330\n",
      "Epoch 91/100\n",
      "50000/50000 [==============================] - 3s 54us/step - loss: 0.0753 - accuracy: 0.9765 - val_loss: 4.2913 - val_accuracy: 0.5329\n",
      "Epoch 92/100\n",
      "50000/50000 [==============================] - 3s 54us/step - loss: 0.0597 - accuracy: 0.9806 - val_loss: 4.3222 - val_accuracy: 0.5309\n",
      "Epoch 93/100\n",
      "50000/50000 [==============================] - 3s 53us/step - loss: 0.0420 - accuracy: 0.9863 - val_loss: 4.4329 - val_accuracy: 0.5395\n",
      "Epoch 94/100\n",
      "50000/50000 [==============================] - 3s 53us/step - loss: 0.0619 - accuracy: 0.9799 - val_loss: 4.4495 - val_accuracy: 0.5353\n",
      "Epoch 95/100\n",
      "50000/50000 [==============================] - 3s 52us/step - loss: 0.0599 - accuracy: 0.9798 - val_loss: 4.3000 - val_accuracy: 0.5326\n",
      "Epoch 96/100\n",
      "50000/50000 [==============================] - 3s 52us/step - loss: 0.0736 - accuracy: 0.9762 - val_loss: 4.2019 - val_accuracy: 0.5334\n",
      "Epoch 97/100\n",
      "50000/50000 [==============================] - 3s 51us/step - loss: 0.0515 - accuracy: 0.9834 - val_loss: 4.5420 - val_accuracy: 0.5342\n",
      "Epoch 98/100\n",
      "50000/50000 [==============================] - 3s 51us/step - loss: 0.0489 - accuracy: 0.9845 - val_loss: 4.4313 - val_accuracy: 0.5243\n",
      "Epoch 99/100\n",
      "50000/50000 [==============================] - 3s 52us/step - loss: 0.0603 - accuracy: 0.9816 - val_loss: 4.5074 - val_accuracy: 0.5318\n",
      "Epoch 100/100\n",
      "50000/50000 [==============================] - 3s 52us/step - loss: 0.0472 - accuracy: 0.9852 - val_loss: 4.6460 - val_accuracy: 0.5345\n"
     ]
    },
    {
     "data": {
      "text/plain": [
       "<keras.callbacks.callbacks.History at 0x12c1c16dfd0>"
      ]
     },
     "execution_count": 69,
     "metadata": {},
     "output_type": "execute_result"
    }
   ],
   "source": [
    "model.fit(x_train, y_train, \n",
    "          epochs=EPOCHS, \n",
    "          batch_size=BATCH_SIZE, \n",
    "          validation_data=(x_test, y_test), \n",
    "          shuffle=True)"
   ]
  },
  {
   "cell_type": "code",
   "execution_count": 60,
   "metadata": {},
   "outputs": [
    {
     "data": {
      "image/png": "[encoded data removed]",
      "text/plain": [
       "<Figure size 432x288 with 1 Axes>"
      ]
     },
     "metadata": {},
     "output_type": "display_data"
    },
    {
     "data": {
      "image/png": "[encoded data removed]",
      "text/plain": [
       "<Figure size 432x288 with 1 Axes>"
      ]
     },
     "metadata": {},
     "output_type": "display_data"
    }
   ],
   "source": [
    "import matplotlib.pyplot as plt\n",
    "\n",
    "\n",
    "train_loss = model.history.history[\"loss\"]\n",
    "valid_loss = model.history.history[\"val_loss\"]\n",
    "\n",
    "train_acc = model.history.history[\"accuracy\"]\n",
    "valid_acc = model.history.history[\"val_accuracy\"]\n",
    "\n",
    "plt.plot(range(len(train_loss)), train_loss, label=\"train loss\")\n",
    "plt.plot(range(len(valid_loss)), valid_loss, label=\"valid loss\")\n",
    "plt.legend()\n",
    "plt.title(\"Loss\")\n",
    "plt.show()\n",
    "\n",
    "plt.plot(range(len(train_acc)), train_acc, label=\"train accuracy\")\n",
    "plt.plot(range(len(valid_acc)), valid_acc, label=\"valid accuracy\")\n",
    "plt.legend()\n",
    "plt.title(\"Accuracy\")\n",
    "plt.show()"
   ]
  },
  {
   "cell_type": "code",
   "execution_count": null,
   "metadata": {
    "collapsed": true
   },
   "outputs": [],
   "source": []
  }
 ],
 "metadata": {
  "kernelspec": {
   "display_name": "Python 3",
   "language": "python",
   "name": "python3"
  },
  "language_info": {
   "codemirror_mode": {
    "name": "ipython",
    "version": 3
   },
   "file_extension": ".py",
   "mimetype": "text/x-python",
   "name": "python",
   "nbconvert_exporter": "python",
   "pygments_lexer": "ipython3",
   "version": "3.6.8"
  }
 },
 "nbformat": 4,
 "nbformat_minor": 2
}
