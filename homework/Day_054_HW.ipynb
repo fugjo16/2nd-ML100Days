{
 "cells": [
  {
   "cell_type": "markdown",
   "metadata": {},
   "source": [
    "# 作業\n",
    "* 試著想想看, 非監督學習是否有可能使用評價函數 (Metric) 來鑑別好壞呢?  \n",
    "(Hint : 可以分為 \"有目標值\" 與 \"無目標值\" 兩個方向思考)"
   ]
  },
  {
   "cell_type": "markdown",
   "metadata": {
    "collapsed": true
   },
   "source": [
    "A:\n",
    "\n",
    "非監督學習主要可以透過幾種方式完成：聚類、維度壓縮、異常檢測。\n",
    "\n",
    "若是有目標值的非監督學習，可以簡單的將結果與目標值做比對。\n",
    "\n",
    "若是無目標值的非監督學習，則有以下幾種方式來鑑別好壞：\n",
    "1. 將無監督生成標籤變成有監督學習\n",
    "2. 相似度分析\n",
    "3. 分布擬合、排序、統機學方式"
   ]
  },
  {
   "cell_type": "code",
   "execution_count": null,
   "metadata": {},
   "outputs": [],
   "source": []
  }
 ],
 "metadata": {
  "kernelspec": {
   "display_name": "Python 3",
   "language": "python",
   "name": "python3"
  },
  "language_info": {
   "codemirror_mode": {
    "name": "ipython",
    "version": 3
   },
   "file_extension": ".py",
   "mimetype": "text/x-python",
   "name": "python",
   "nbconvert_exporter": "python",
   "pygments_lexer": "ipython3",
   "version": "3.7.3"
  }
 },
 "nbformat": 4,
 "nbformat_minor": 1
}
